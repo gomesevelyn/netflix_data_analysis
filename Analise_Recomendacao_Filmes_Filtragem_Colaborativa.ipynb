{
  "cells": [
    {
      "cell_type": "markdown",
      "metadata": {
        "id": "XTibc2le5Nn4"
      },
      "source": [
        "## 1. Instalação e importação das bibliotecas"
      ]
    },
    {
      "cell_type": "code",
      "execution_count": null,
      "metadata": {
        "colab": {
          "base_uri": "https://localhost:8080/"
        },
        "id": "bZ6z-OL-yz1C",
        "outputId": "b7e7acbe-6024-40b0-d653-0d569c72b817"
      },
      "outputs": [
        {
          "output_type": "stream",
          "name": "stdout",
          "text": [
            "Looking in indexes: https://pypi.org/simple, https://us-python.pkg.dev/colab-wheels/public/simple/\n",
            "Collecting surprise\n",
            "  Downloading surprise-0.1-py2.py3-none-any.whl (1.8 kB)\n",
            "Collecting scikit-surprise (from surprise)\n",
            "  Downloading scikit-surprise-1.1.3.tar.gz (771 kB)\n",
            "\u001b[2K     \u001b[90m━━━━━━━━━━━━━━━━━━━━━━━━━━━━━━━━━━━━━━\u001b[0m \u001b[32m772.0/772.0 kB\u001b[0m \u001b[31m53.0 MB/s\u001b[0m eta \u001b[36m0:00:00\u001b[0m\n",
            "\u001b[?25h  Preparing metadata (setup.py) ... \u001b[?25l\u001b[?25hdone\n",
            "Requirement already satisfied: joblib>=1.0.0 in /usr/local/lib/python3.10/dist-packages (from scikit-surprise->surprise) (1.2.0)\n",
            "Requirement already satisfied: numpy>=1.17.3 in /usr/local/lib/python3.10/dist-packages (from scikit-surprise->surprise) (1.22.4)\n",
            "Requirement already satisfied: scipy>=1.3.2 in /usr/local/lib/python3.10/dist-packages (from scikit-surprise->surprise) (1.10.1)\n",
            "Building wheels for collected packages: scikit-surprise\n",
            "  Building wheel for scikit-surprise (setup.py) ... \u001b[?25l\u001b[?25hdone\n",
            "  Created wheel for scikit-surprise: filename=scikit_surprise-1.1.3-cp310-cp310-linux_x86_64.whl size=3095484 sha256=9d6ebd95691626645ed98e6e1d34bfee9a518280a10d80078e344a05da232f8e\n",
            "  Stored in directory: /root/.cache/pip/wheels/a5/ca/a8/4e28def53797fdc4363ca4af740db15a9c2f1595ebc51fb445\n",
            "Successfully built scikit-surprise\n",
            "Installing collected packages: scikit-surprise, surprise\n",
            "Successfully installed scikit-surprise-1.1.3 surprise-0.1\n"
          ]
        }
      ],
      "source": [
        "# Importação das bibliotecas\n",
        "import pandas as pd\n",
        "import numpy as np\n",
        "import matplotlib.pyplot as plt\n",
        "import seaborn as sns\n",
        "import heapq\n",
        "import os\n",
        "from scipy import sparse\n",
        "from scipy.sparse import csr_matrix\n",
        "!pip install surprise\n",
        "from surprise import Reader, Dataset, SVD, dump\n",
        "from surprise.model_selection import train_test_split, GridSearchCV\n",
        "from surprise.model_selection import cross_validate\n",
        "from surprise import accuracy\n",
        "from wordcloud import WordCloud\n",
        "from collections import defaultdict, Counter\n",
        "from sklearn.cluster import KMeans"
      ]
    },
    {
      "cell_type": "markdown",
      "metadata": {
        "id": "9KSwSLCWRWqq"
      },
      "source": [
        "##2. Carregamento dos dados\n"
      ]
    },
    {
      "cell_type": "code",
      "execution_count": null,
      "metadata": {
        "colab": {
          "base_uri": "https://localhost:8080/",
          "height": 206
        },
        "id": "_qXhLCly6n6o",
        "outputId": "a3b83296-ca6f-420e-fe22-aa284df2e966"
      },
      "outputs": [
        {
          "output_type": "execute_result",
          "data": {
            "text/plain": [
              "   Cust_Id  Rating\n",
              "0       1:     NaN\n",
              "1  1488844     3.0\n",
              "2   822109     5.0\n",
              "3   885013     4.0\n",
              "4    30878     4.0"
            ],
            "text/html": [
              "\n",
              "  <div id=\"df-cc82a8f7-2d8a-4c42-82e2-5215f0f33ffe\">\n",
              "    <div class=\"colab-df-container\">\n",
              "      <div>\n",
              "<style scoped>\n",
              "    .dataframe tbody tr th:only-of-type {\n",
              "        vertical-align: middle;\n",
              "    }\n",
              "\n",
              "    .dataframe tbody tr th {\n",
              "        vertical-align: top;\n",
              "    }\n",
              "\n",
              "    .dataframe thead th {\n",
              "        text-align: right;\n",
              "    }\n",
              "</style>\n",
              "<table border=\"1\" class=\"dataframe\">\n",
              "  <thead>\n",
              "    <tr style=\"text-align: right;\">\n",
              "      <th></th>\n",
              "      <th>Cust_Id</th>\n",
              "      <th>Rating</th>\n",
              "    </tr>\n",
              "  </thead>\n",
              "  <tbody>\n",
              "    <tr>\n",
              "      <th>0</th>\n",
              "      <td>1:</td>\n",
              "      <td>NaN</td>\n",
              "    </tr>\n",
              "    <tr>\n",
              "      <th>1</th>\n",
              "      <td>1488844</td>\n",
              "      <td>3.0</td>\n",
              "    </tr>\n",
              "    <tr>\n",
              "      <th>2</th>\n",
              "      <td>822109</td>\n",
              "      <td>5.0</td>\n",
              "    </tr>\n",
              "    <tr>\n",
              "      <th>3</th>\n",
              "      <td>885013</td>\n",
              "      <td>4.0</td>\n",
              "    </tr>\n",
              "    <tr>\n",
              "      <th>4</th>\n",
              "      <td>30878</td>\n",
              "      <td>4.0</td>\n",
              "    </tr>\n",
              "  </tbody>\n",
              "</table>\n",
              "</div>\n",
              "      <button class=\"colab-df-convert\" onclick=\"convertToInteractive('df-cc82a8f7-2d8a-4c42-82e2-5215f0f33ffe')\"\n",
              "              title=\"Convert this dataframe to an interactive table.\"\n",
              "              style=\"display:none;\">\n",
              "        \n",
              "  <svg xmlns=\"http://www.w3.org/2000/svg\" height=\"24px\"viewBox=\"0 0 24 24\"\n",
              "       width=\"24px\">\n",
              "    <path d=\"M0 0h24v24H0V0z\" fill=\"none\"/>\n",
              "    <path d=\"M18.56 5.44l.94 2.06.94-2.06 2.06-.94-2.06-.94-.94-2.06-.94 2.06-2.06.94zm-11 1L8.5 8.5l.94-2.06 2.06-.94-2.06-.94L8.5 2.5l-.94 2.06-2.06.94zm10 10l.94 2.06.94-2.06 2.06-.94-2.06-.94-.94-2.06-.94 2.06-2.06.94z\"/><path d=\"M17.41 7.96l-1.37-1.37c-.4-.4-.92-.59-1.43-.59-.52 0-1.04.2-1.43.59L10.3 9.45l-7.72 7.72c-.78.78-.78 2.05 0 2.83L4 21.41c.39.39.9.59 1.41.59.51 0 1.02-.2 1.41-.59l7.78-7.78 2.81-2.81c.8-.78.8-2.07 0-2.86zM5.41 20L4 18.59l7.72-7.72 1.47 1.35L5.41 20z\"/>\n",
              "  </svg>\n",
              "      </button>\n",
              "      \n",
              "  <style>\n",
              "    .colab-df-container {\n",
              "      display:flex;\n",
              "      flex-wrap:wrap;\n",
              "      gap: 12px;\n",
              "    }\n",
              "\n",
              "    .colab-df-convert {\n",
              "      background-color: #E8F0FE;\n",
              "      border: none;\n",
              "      border-radius: 50%;\n",
              "      cursor: pointer;\n",
              "      display: none;\n",
              "      fill: #1967D2;\n",
              "      height: 32px;\n",
              "      padding: 0 0 0 0;\n",
              "      width: 32px;\n",
              "    }\n",
              "\n",
              "    .colab-df-convert:hover {\n",
              "      background-color: #E2EBFA;\n",
              "      box-shadow: 0px 1px 2px rgba(60, 64, 67, 0.3), 0px 1px 3px 1px rgba(60, 64, 67, 0.15);\n",
              "      fill: #174EA6;\n",
              "    }\n",
              "\n",
              "    [theme=dark] .colab-df-convert {\n",
              "      background-color: #3B4455;\n",
              "      fill: #D2E3FC;\n",
              "    }\n",
              "\n",
              "    [theme=dark] .colab-df-convert:hover {\n",
              "      background-color: #434B5C;\n",
              "      box-shadow: 0px 1px 3px 1px rgba(0, 0, 0, 0.15);\n",
              "      filter: drop-shadow(0px 1px 2px rgba(0, 0, 0, 0.3));\n",
              "      fill: #FFFFFF;\n",
              "    }\n",
              "  </style>\n",
              "\n",
              "      <script>\n",
              "        const buttonEl =\n",
              "          document.querySelector('#df-cc82a8f7-2d8a-4c42-82e2-5215f0f33ffe button.colab-df-convert');\n",
              "        buttonEl.style.display =\n",
              "          google.colab.kernel.accessAllowed ? 'block' : 'none';\n",
              "\n",
              "        async function convertToInteractive(key) {\n",
              "          const element = document.querySelector('#df-cc82a8f7-2d8a-4c42-82e2-5215f0f33ffe');\n",
              "          const dataTable =\n",
              "            await google.colab.kernel.invokeFunction('convertToInteractive',\n",
              "                                                     [key], {});\n",
              "          if (!dataTable) return;\n",
              "\n",
              "          const docLinkHtml = 'Like what you see? Visit the ' +\n",
              "            '<a target=\"_blank\" href=https://colab.research.google.com/notebooks/data_table.ipynb>data table notebook</a>'\n",
              "            + ' to learn more about interactive tables.';\n",
              "          element.innerHTML = '';\n",
              "          dataTable['output_type'] = 'display_data';\n",
              "          await google.colab.output.renderOutput(dataTable, element);\n",
              "          const docLink = document.createElement('div');\n",
              "          docLink.innerHTML = docLinkHtml;\n",
              "          element.appendChild(docLink);\n",
              "        }\n",
              "      </script>\n",
              "    </div>\n",
              "  </div>\n",
              "  "
            ]
          },
          "metadata": {},
          "execution_count": 2
        }
      ],
      "source": [
        "# Carregamento dos dados \n",
        "df = pd.read_csv(\n",
        "  '/content/combined_data_1.txt',\n",
        "  header=None, \n",
        "  names=['Cust_Id', 'Rating'], \n",
        "  usecols = [0, 1]\n",
        ")\n",
        "\n",
        "df.head()"
      ]
    },
    {
      "cell_type": "code",
      "execution_count": null,
      "metadata": {
        "colab": {
          "base_uri": "https://localhost:8080/",
          "height": 1000
        },
        "id": "cdA1EWVPHPde",
        "outputId": "cadcb89f-6ead-45a0-9645-95dc8cfe8f45"
      },
      "outputs": [
        {
          "output_type": "stream",
          "name": "stderr",
          "text": [
            "<ipython-input-3-aa0630453875>:2: FutureWarning: The error_bad_lines argument has been deprecated and will be removed in a future version. Use on_bad_lines in the future.\n",
            "\n",
            "\n",
            "  df_titles = pd.read_csv(\n",
            "Skipping line 72: expected 3 fields, saw 4\n",
            "Skipping line 264: expected 3 fields, saw 5\n",
            "Skipping line 350: expected 3 fields, saw 4\n",
            "Skipping line 366: expected 3 fields, saw 4\n",
            "Skipping line 394: expected 3 fields, saw 4\n",
            "Skipping line 466: expected 3 fields, saw 4\n",
            "Skipping line 582: expected 3 fields, saw 4\n",
            "Skipping line 600: expected 3 fields, saw 4\n",
            "Skipping line 670: expected 3 fields, saw 4\n",
            "Skipping line 672: expected 3 fields, saw 4\n",
            "Skipping line 729: expected 3 fields, saw 4\n",
            "Skipping line 776: expected 3 fields, saw 4\n",
            "Skipping line 827: expected 3 fields, saw 4\n",
            "Skipping line 834: expected 3 fields, saw 4\n",
            "Skipping line 891: expected 3 fields, saw 4\n",
            "Skipping line 913: expected 3 fields, saw 4\n",
            "Skipping line 944: expected 3 fields, saw 4\n",
            "Skipping line 973: expected 3 fields, saw 4\n",
            "Skipping line 1010: expected 3 fields, saw 4\n",
            "Skipping line 1015: expected 3 fields, saw 4\n",
            "Skipping line 1058: expected 3 fields, saw 4\n",
            "Skipping line 1095: expected 3 fields, saw 4\n",
            "Skipping line 1170: expected 3 fields, saw 4\n",
            "Skipping line 1210: expected 3 fields, saw 4\n",
            "Skipping line 1286: expected 3 fields, saw 4\n",
            "Skipping line 1520: expected 3 fields, saw 4\n",
            "Skipping line 1559: expected 3 fields, saw 4\n",
            "Skipping line 1629: expected 3 fields, saw 4\n",
            "Skipping line 1647: expected 3 fields, saw 4\n",
            "Skipping line 1654: expected 3 fields, saw 4\n",
            "Skipping line 1658: expected 3 fields, saw 4\n",
            "Skipping line 1674: expected 3 fields, saw 4\n",
            "Skipping line 1745: expected 3 fields, saw 4\n",
            "Skipping line 1752: expected 3 fields, saw 4\n",
            "Skipping line 2107: expected 3 fields, saw 4\n",
            "Skipping line 2176: expected 3 fields, saw 4\n",
            "Skipping line 2178: expected 3 fields, saw 4\n",
            "Skipping line 2361: expected 3 fields, saw 5\n",
            "Skipping line 2410: expected 3 fields, saw 4\n",
            "Skipping line 2428: expected 3 fields, saw 4\n",
            "Skipping line 2433: expected 3 fields, saw 4\n",
            "Skipping line 2462: expected 3 fields, saw 4\n",
            "Skipping line 2598: expected 3 fields, saw 4\n",
            "Skipping line 2625: expected 3 fields, saw 4\n",
            "Skipping line 2628: expected 3 fields, saw 4\n",
            "Skipping line 2691: expected 3 fields, saw 4\n",
            "Skipping line 2722: expected 3 fields, saw 4\n",
            "Skipping line 2772: expected 3 fields, saw 4\n",
            "Skipping line 2796: expected 3 fields, saw 4\n",
            "Skipping line 2830: expected 3 fields, saw 4\n",
            "Skipping line 2854: expected 3 fields, saw 4\n",
            "Skipping line 2878: expected 3 fields, saw 4\n",
            "Skipping line 2889: expected 3 fields, saw 4\n",
            "Skipping line 2947: expected 3 fields, saw 4\n",
            "Skipping line 3023: expected 3 fields, saw 4\n",
            "Skipping line 3083: expected 3 fields, saw 4\n",
            "Skipping line 3140: expected 3 fields, saw 4\n",
            "Skipping line 3163: expected 3 fields, saw 4\n",
            "Skipping line 3227: expected 3 fields, saw 4\n",
            "Skipping line 3238: expected 3 fields, saw 4\n",
            "Skipping line 3290: expected 3 fields, saw 4\n",
            "Skipping line 3428: expected 3 fields, saw 4\n",
            "Skipping line 3429: expected 3 fields, saw 4\n",
            "Skipping line 3440: expected 3 fields, saw 4\n",
            "Skipping line 3509: expected 3 fields, saw 4\n",
            "Skipping line 3561: expected 3 fields, saw 4\n",
            "Skipping line 3569: expected 3 fields, saw 4\n",
            "Skipping line 3591: expected 3 fields, saw 4\n",
            "Skipping line 3595: expected 3 fields, saw 4\n",
            "Skipping line 3634: expected 3 fields, saw 4\n",
            "Skipping line 3880: expected 3 fields, saw 4\n",
            "Skipping line 3933: expected 3 fields, saw 5\n",
            "Skipping line 4005: expected 3 fields, saw 4\n",
            "Skipping line 4029: expected 3 fields, saw 4\n",
            "Skipping line 4059: expected 3 fields, saw 4\n",
            "Skipping line 4105: expected 3 fields, saw 4\n",
            "Skipping line 4125: expected 3 fields, saw 4\n",
            "Skipping line 4153: expected 3 fields, saw 4\n",
            "Skipping line 4168: expected 3 fields, saw 4\n",
            "Skipping line 4268: expected 3 fields, saw 5\n",
            "Skipping line 4325: expected 3 fields, saw 4\n",
            "Skipping line 4335: expected 3 fields, saw 4\n",
            "Skipping line 4433: expected 3 fields, saw 4\n",
            "Skipping line 4436: expected 3 fields, saw 4\n",
            "Skipping line 4444: expected 3 fields, saw 5\n",
            "Skipping line 4518: expected 3 fields, saw 4\n",
            "Skipping line 4550: expected 3 fields, saw 4\n",
            "Skipping line 4608: expected 3 fields, saw 4\n",
            "Skipping line 4651: expected 3 fields, saw 4\n",
            "Skipping line 4933: expected 3 fields, saw 4\n",
            "Skipping line 4982: expected 3 fields, saw 4\n",
            "Skipping line 4993: expected 3 fields, saw 4\n",
            "Skipping line 5087: expected 3 fields, saw 4\n",
            "Skipping line 5223: expected 3 fields, saw 4\n",
            "Skipping line 5334: expected 3 fields, saw 4\n",
            "Skipping line 5404: expected 3 fields, saw 5\n",
            "Skipping line 5485: expected 3 fields, saw 4\n",
            "Skipping line 5496: expected 3 fields, saw 4\n",
            "Skipping line 5544: expected 3 fields, saw 4\n",
            "Skipping line 5553: expected 3 fields, saw 4\n",
            "Skipping line 5555: expected 3 fields, saw 4\n",
            "Skipping line 5624: expected 3 fields, saw 4\n",
            "Skipping line 5692: expected 3 fields, saw 4\n",
            "Skipping line 5714: expected 3 fields, saw 4\n",
            "Skipping line 5778: expected 3 fields, saw 4\n",
            "Skipping line 5912: expected 3 fields, saw 4\n",
            "Skipping line 5917: expected 3 fields, saw 6\n",
            "Skipping line 5966: expected 3 fields, saw 4\n",
            "Skipping line 5976: expected 3 fields, saw 5\n",
            "Skipping line 6110: expected 3 fields, saw 6\n",
            "Skipping line 6111: expected 3 fields, saw 4\n",
            "Skipping line 6281: expected 3 fields, saw 4\n",
            "Skipping line 6374: expected 3 fields, saw 4\n",
            "Skipping line 6392: expected 3 fields, saw 4\n",
            "Skipping line 6408: expected 3 fields, saw 4\n",
            "Skipping line 6472: expected 3 fields, saw 4\n",
            "Skipping line 6515: expected 3 fields, saw 4\n",
            "Skipping line 6525: expected 3 fields, saw 4\n",
            "Skipping line 6580: expected 3 fields, saw 4\n",
            "Skipping line 6696: expected 3 fields, saw 4\n",
            "Skipping line 6772: expected 3 fields, saw 4\n",
            "Skipping line 6777: expected 3 fields, saw 6\n",
            "Skipping line 6924: expected 3 fields, saw 4\n",
            "Skipping line 7096: expected 3 fields, saw 4\n",
            "Skipping line 7116: expected 3 fields, saw 4\n",
            "Skipping line 7213: expected 3 fields, saw 4\n",
            "Skipping line 7378: expected 3 fields, saw 4\n",
            "Skipping line 7474: expected 3 fields, saw 4\n",
            "Skipping line 7530: expected 3 fields, saw 4\n",
            "Skipping line 7653: expected 3 fields, saw 5\n",
            "Skipping line 7767: expected 3 fields, saw 4\n",
            "Skipping line 7834: expected 3 fields, saw 4\n",
            "Skipping line 8006: expected 3 fields, saw 4\n",
            "Skipping line 8048: expected 3 fields, saw 4\n",
            "Skipping line 8094: expected 3 fields, saw 4\n",
            "Skipping line 8108: expected 3 fields, saw 4\n",
            "Skipping line 8114: expected 3 fields, saw 6\n",
            "Skipping line 8188: expected 3 fields, saw 4\n",
            "Skipping line 8294: expected 3 fields, saw 4\n",
            "Skipping line 8338: expected 3 fields, saw 5\n",
            "Skipping line 8410: expected 3 fields, saw 4\n",
            "Skipping line 8478: expected 3 fields, saw 4\n",
            "Skipping line 8511: expected 3 fields, saw 4\n",
            "Skipping line 8557: expected 3 fields, saw 4\n",
            "Skipping line 8588: expected 3 fields, saw 5\n",
            "Skipping line 8655: expected 3 fields, saw 5\n",
            "Skipping line 8683: expected 3 fields, saw 4\n",
            "Skipping line 8688: expected 3 fields, saw 4\n",
            "Skipping line 8690: expected 3 fields, saw 4\n",
            "Skipping line 8733: expected 3 fields, saw 4\n",
            "Skipping line 8806: expected 3 fields, saw 4\n",
            "Skipping line 8812: expected 3 fields, saw 4\n",
            "Skipping line 8824: expected 3 fields, saw 4\n",
            "Skipping line 8858: expected 3 fields, saw 4\n",
            "Skipping line 8871: expected 3 fields, saw 4\n",
            "Skipping line 8873: expected 3 fields, saw 4\n",
            "Skipping line 8889: expected 3 fields, saw 4\n",
            "Skipping line 8899: expected 3 fields, saw 5\n",
            "Skipping line 8908: expected 3 fields, saw 4\n",
            "Skipping line 8909: expected 3 fields, saw 4\n",
            "Skipping line 8911: expected 3 fields, saw 4\n",
            "Skipping line 8965: expected 3 fields, saw 4\n",
            "Skipping line 9075: expected 3 fields, saw 5\n",
            "Skipping line 9106: expected 3 fields, saw 4\n",
            "Skipping line 9367: expected 3 fields, saw 4\n",
            "Skipping line 9398: expected 3 fields, saw 4\n",
            "Skipping line 9403: expected 3 fields, saw 4\n",
            "Skipping line 9460: expected 3 fields, saw 4\n",
            "Skipping line 9489: expected 3 fields, saw 4\n",
            "Skipping line 9500: expected 3 fields, saw 4\n",
            "Skipping line 9582: expected 3 fields, saw 4\n",
            "Skipping line 9595: expected 3 fields, saw 5\n",
            "Skipping line 9604: expected 3 fields, saw 5\n",
            "Skipping line 9695: expected 3 fields, saw 4\n",
            "Skipping line 9713: expected 3 fields, saw 4\n",
            "Skipping line 9739: expected 3 fields, saw 4\n",
            "Skipping line 9760: expected 3 fields, saw 4\n",
            "Skipping line 9868: expected 3 fields, saw 5\n",
            "Skipping line 9976: expected 3 fields, saw 4\n",
            "Skipping line 10044: expected 3 fields, saw 4\n",
            "Skipping line 10087: expected 3 fields, saw 4\n",
            "Skipping line 10097: expected 3 fields, saw 4\n",
            "Skipping line 10223: expected 3 fields, saw 4\n",
            "Skipping line 10321: expected 3 fields, saw 4\n",
            "Skipping line 10369: expected 3 fields, saw 4\n",
            "Skipping line 10557: expected 3 fields, saw 4\n",
            "Skipping line 10564: expected 3 fields, saw 5\n",
            "Skipping line 10619: expected 3 fields, saw 4\n",
            "Skipping line 10649: expected 3 fields, saw 4\n",
            "Skipping line 10676: expected 3 fields, saw 4\n",
            "Skipping line 10690: expected 3 fields, saw 4\n",
            "Skipping line 10795: expected 3 fields, saw 4\n",
            "Skipping line 10839: expected 3 fields, saw 5\n",
            "Skipping line 10860: expected 3 fields, saw 6\n",
            "Skipping line 10887: expected 3 fields, saw 4\n",
            "Skipping line 10941: expected 3 fields, saw 4\n",
            "Skipping line 10948: expected 3 fields, saw 4\n",
            "Skipping line 10950: expected 3 fields, saw 4\n",
            "Skipping line 10967: expected 3 fields, saw 4\n",
            "Skipping line 11083: expected 3 fields, saw 4\n",
            "Skipping line 11089: expected 3 fields, saw 4\n",
            "Skipping line 11114: expected 3 fields, saw 4\n",
            "Skipping line 11116: expected 3 fields, saw 4\n",
            "Skipping line 11176: expected 3 fields, saw 4\n",
            "Skipping line 11206: expected 3 fields, saw 4\n",
            "Skipping line 11298: expected 3 fields, saw 4\n",
            "Skipping line 11333: expected 3 fields, saw 4\n",
            "Skipping line 11353: expected 3 fields, saw 4\n",
            "Skipping line 11362: expected 3 fields, saw 4\n",
            "Skipping line 11405: expected 3 fields, saw 4\n",
            "Skipping line 11583: expected 3 fields, saw 4\n",
            "Skipping line 11646: expected 3 fields, saw 4\n",
            "Skipping line 11688: expected 3 fields, saw 4\n",
            "Skipping line 11714: expected 3 fields, saw 4\n",
            "Skipping line 11883: expected 3 fields, saw 4\n",
            "Skipping line 11917: expected 3 fields, saw 4\n",
            "Skipping line 11983: expected 3 fields, saw 5\n",
            "Skipping line 11996: expected 3 fields, saw 4\n",
            "Skipping line 12031: expected 3 fields, saw 4\n",
            "Skipping line 12209: expected 3 fields, saw 4\n",
            "Skipping line 12218: expected 3 fields, saw 4\n",
            "Skipping line 12353: expected 3 fields, saw 6\n",
            "Skipping line 12413: expected 3 fields, saw 4\n",
            "Skipping line 12423: expected 3 fields, saw 4\n",
            "Skipping line 12510: expected 3 fields, saw 4\n",
            "Skipping line 12531: expected 3 fields, saw 4\n",
            "Skipping line 12586: expected 3 fields, saw 4\n",
            "Skipping line 12619: expected 3 fields, saw 4\n",
            "Skipping line 12691: expected 3 fields, saw 4\n",
            "Skipping line 12692: expected 3 fields, saw 4\n",
            "Skipping line 12693: expected 3 fields, saw 4\n",
            "Skipping line 12715: expected 3 fields, saw 6\n",
            "Skipping line 12850: expected 3 fields, saw 4\n",
            "Skipping line 12880: expected 3 fields, saw 4\n",
            "Skipping line 12884: expected 3 fields, saw 4\n",
            "Skipping line 12916: expected 3 fields, saw 4\n",
            "Skipping line 12976: expected 3 fields, saw 4\n",
            "Skipping line 13024: expected 3 fields, saw 5\n",
            "Skipping line 13104: expected 3 fields, saw 4\n",
            "Skipping line 13151: expected 3 fields, saw 4\n",
            "Skipping line 13173: expected 3 fields, saw 4\n",
            "Skipping line 13202: expected 3 fields, saw 4\n",
            "Skipping line 13209: expected 3 fields, saw 4\n",
            "Skipping line 13231: expected 3 fields, saw 4\n",
            "Skipping line 13263: expected 3 fields, saw 4\n",
            "Skipping line 13314: expected 3 fields, saw 4\n",
            "Skipping line 13345: expected 3 fields, saw 4\n",
            "Skipping line 13364: expected 3 fields, saw 4\n",
            "Skipping line 13428: expected 3 fields, saw 4\n",
            "Skipping line 13482: expected 3 fields, saw 5\n",
            "Skipping line 13504: expected 3 fields, saw 4\n",
            "Skipping line 13554: expected 3 fields, saw 4\n",
            "Skipping line 13572: expected 3 fields, saw 4\n",
            "Skipping line 13693: expected 3 fields, saw 4\n",
            "Skipping line 13781: expected 3 fields, saw 4\n",
            "Skipping line 13802: expected 3 fields, saw 4\n",
            "Skipping line 13940: expected 3 fields, saw 4\n",
            "Skipping line 13977: expected 3 fields, saw 4\n",
            "Skipping line 13988: expected 3 fields, saw 4\n",
            "Skipping line 13997: expected 3 fields, saw 4\n",
            "Skipping line 14040: expected 3 fields, saw 4\n",
            "Skipping line 14172: expected 3 fields, saw 4\n",
            "Skipping line 14249: expected 3 fields, saw 4\n",
            "Skipping line 14264: expected 3 fields, saw 6\n",
            "Skipping line 14290: expected 3 fields, saw 4\n",
            "Skipping line 14327: expected 3 fields, saw 4\n",
            "Skipping line 14418: expected 3 fields, saw 4\n",
            "Skipping line 14464: expected 3 fields, saw 4\n",
            "Skipping line 14493: expected 3 fields, saw 4\n",
            "Skipping line 14508: expected 3 fields, saw 4\n",
            "Skipping line 14584: expected 3 fields, saw 4\n",
            "Skipping line 14612: expected 3 fields, saw 5\n",
            "Skipping line 14746: expected 3 fields, saw 4\n",
            "Skipping line 14809: expected 3 fields, saw 4\n",
            "Skipping line 14965: expected 3 fields, saw 4\n",
            "Skipping line 14981: expected 3 fields, saw 4\n",
            "Skipping line 15023: expected 3 fields, saw 5\n",
            "Skipping line 15119: expected 3 fields, saw 4\n",
            "Skipping line 15122: expected 3 fields, saw 4\n",
            "Skipping line 15174: expected 3 fields, saw 4\n",
            "Skipping line 15193: expected 3 fields, saw 4\n",
            "Skipping line 15218: expected 3 fields, saw 4\n",
            "Skipping line 15274: expected 3 fields, saw 4\n",
            "Skipping line 15333: expected 3 fields, saw 4\n",
            "Skipping line 15372: expected 3 fields, saw 4\n",
            "Skipping line 15401: expected 3 fields, saw 4\n",
            "Skipping line 15405: expected 3 fields, saw 4\n",
            "Skipping line 15416: expected 3 fields, saw 4\n",
            "Skipping line 15424: expected 3 fields, saw 5\n",
            "Skipping line 15503: expected 3 fields, saw 4\n",
            "Skipping line 15625: expected 3 fields, saw 4\n",
            "Skipping line 15659: expected 3 fields, saw 4\n",
            "Skipping line 15764: expected 3 fields, saw 4\n",
            "Skipping line 15766: expected 3 fields, saw 4\n",
            "Skipping line 15796: expected 3 fields, saw 5\n",
            "Skipping line 15905: expected 3 fields, saw 4\n",
            "Skipping line 15984: expected 3 fields, saw 4\n",
            "Skipping line 15985: expected 3 fields, saw 4\n",
            "Skipping line 16071: expected 3 fields, saw 4\n",
            "Skipping line 16073: expected 3 fields, saw 4\n",
            "Skipping line 16099: expected 3 fields, saw 4\n",
            "Skipping line 16140: expected 3 fields, saw 6\n",
            "Skipping line 16144: expected 3 fields, saw 4\n",
            "Skipping line 16218: expected 3 fields, saw 4\n",
            "Skipping line 16258: expected 3 fields, saw 4\n",
            "Skipping line 16272: expected 3 fields, saw 4\n",
            "Skipping line 16305: expected 3 fields, saw 4\n",
            "Skipping line 16316: expected 3 fields, saw 4\n",
            "Skipping line 16361: expected 3 fields, saw 4\n",
            "Skipping line 16385: expected 3 fields, saw 4\n",
            "Skipping line 16416: expected 3 fields, saw 4\n",
            "Skipping line 16441: expected 3 fields, saw 4\n",
            "Skipping line 16445: expected 3 fields, saw 4\n",
            "Skipping line 16467: expected 3 fields, saw 4\n",
            "Skipping line 16554: expected 3 fields, saw 4\n",
            "Skipping line 16597: expected 3 fields, saw 4\n",
            "Skipping line 16648: expected 3 fields, saw 4\n",
            "Skipping line 16664: expected 3 fields, saw 4\n",
            "Skipping line 16713: expected 3 fields, saw 4\n",
            "Skipping line 16770: expected 3 fields, saw 4\n",
            "Skipping line 16819: expected 3 fields, saw 4\n",
            "Skipping line 16861: expected 3 fields, saw 4\n",
            "Skipping line 16933: expected 3 fields, saw 4\n",
            "Skipping line 17012: expected 3 fields, saw 4\n",
            "Skipping line 17101: expected 3 fields, saw 4\n",
            "Skipping line 17110: expected 3 fields, saw 4\n",
            "Skipping line 17167: expected 3 fields, saw 4\n",
            "Skipping line 17171: expected 3 fields, saw 4\n",
            "Skipping line 17206: expected 3 fields, saw 4\n",
            "Skipping line 17254: expected 3 fields, saw 4\n",
            "Skipping line 17295: expected 3 fields, saw 4\n",
            "Skipping line 17347: expected 3 fields, saw 4\n",
            "Skipping line 17419: expected 3 fields, saw 4\n",
            "Skipping line 17573: expected 3 fields, saw 4\n",
            "Skipping line 17597: expected 3 fields, saw 4\n",
            "Skipping line 17679: expected 3 fields, saw 4\n",
            "\n"
          ]
        },
        {
          "output_type": "execute_result",
          "data": {
            "text/plain": [
              "   Movie_Id    Year                          Name\n",
              "0         1  2003.0               Dinosaur Planet\n",
              "1         2  2004.0    Isle of Man TT 2004 Review\n",
              "2         3  1997.0                     Character\n",
              "3         4  1994.0  Paula Abdul's Get Up & Dance\n",
              "4         5  2004.0      The Rise and Fall of ECW"
            ],
            "text/html": [
              "\n",
              "  <div id=\"df-d899aee5-17a7-4801-b48c-66aea8973ba6\">\n",
              "    <div class=\"colab-df-container\">\n",
              "      <div>\n",
              "<style scoped>\n",
              "    .dataframe tbody tr th:only-of-type {\n",
              "        vertical-align: middle;\n",
              "    }\n",
              "\n",
              "    .dataframe tbody tr th {\n",
              "        vertical-align: top;\n",
              "    }\n",
              "\n",
              "    .dataframe thead th {\n",
              "        text-align: right;\n",
              "    }\n",
              "</style>\n",
              "<table border=\"1\" class=\"dataframe\">\n",
              "  <thead>\n",
              "    <tr style=\"text-align: right;\">\n",
              "      <th></th>\n",
              "      <th>Movie_Id</th>\n",
              "      <th>Year</th>\n",
              "      <th>Name</th>\n",
              "    </tr>\n",
              "  </thead>\n",
              "  <tbody>\n",
              "    <tr>\n",
              "      <th>0</th>\n",
              "      <td>1</td>\n",
              "      <td>2003.0</td>\n",
              "      <td>Dinosaur Planet</td>\n",
              "    </tr>\n",
              "    <tr>\n",
              "      <th>1</th>\n",
              "      <td>2</td>\n",
              "      <td>2004.0</td>\n",
              "      <td>Isle of Man TT 2004 Review</td>\n",
              "    </tr>\n",
              "    <tr>\n",
              "      <th>2</th>\n",
              "      <td>3</td>\n",
              "      <td>1997.0</td>\n",
              "      <td>Character</td>\n",
              "    </tr>\n",
              "    <tr>\n",
              "      <th>3</th>\n",
              "      <td>4</td>\n",
              "      <td>1994.0</td>\n",
              "      <td>Paula Abdul's Get Up &amp; Dance</td>\n",
              "    </tr>\n",
              "    <tr>\n",
              "      <th>4</th>\n",
              "      <td>5</td>\n",
              "      <td>2004.0</td>\n",
              "      <td>The Rise and Fall of ECW</td>\n",
              "    </tr>\n",
              "  </tbody>\n",
              "</table>\n",
              "</div>\n",
              "      <button class=\"colab-df-convert\" onclick=\"convertToInteractive('df-d899aee5-17a7-4801-b48c-66aea8973ba6')\"\n",
              "              title=\"Convert this dataframe to an interactive table.\"\n",
              "              style=\"display:none;\">\n",
              "        \n",
              "  <svg xmlns=\"http://www.w3.org/2000/svg\" height=\"24px\"viewBox=\"0 0 24 24\"\n",
              "       width=\"24px\">\n",
              "    <path d=\"M0 0h24v24H0V0z\" fill=\"none\"/>\n",
              "    <path d=\"M18.56 5.44l.94 2.06.94-2.06 2.06-.94-2.06-.94-.94-2.06-.94 2.06-2.06.94zm-11 1L8.5 8.5l.94-2.06 2.06-.94-2.06-.94L8.5 2.5l-.94 2.06-2.06.94zm10 10l.94 2.06.94-2.06 2.06-.94-2.06-.94-.94-2.06-.94 2.06-2.06.94z\"/><path d=\"M17.41 7.96l-1.37-1.37c-.4-.4-.92-.59-1.43-.59-.52 0-1.04.2-1.43.59L10.3 9.45l-7.72 7.72c-.78.78-.78 2.05 0 2.83L4 21.41c.39.39.9.59 1.41.59.51 0 1.02-.2 1.41-.59l7.78-7.78 2.81-2.81c.8-.78.8-2.07 0-2.86zM5.41 20L4 18.59l7.72-7.72 1.47 1.35L5.41 20z\"/>\n",
              "  </svg>\n",
              "      </button>\n",
              "      \n",
              "  <style>\n",
              "    .colab-df-container {\n",
              "      display:flex;\n",
              "      flex-wrap:wrap;\n",
              "      gap: 12px;\n",
              "    }\n",
              "\n",
              "    .colab-df-convert {\n",
              "      background-color: #E8F0FE;\n",
              "      border: none;\n",
              "      border-radius: 50%;\n",
              "      cursor: pointer;\n",
              "      display: none;\n",
              "      fill: #1967D2;\n",
              "      height: 32px;\n",
              "      padding: 0 0 0 0;\n",
              "      width: 32px;\n",
              "    }\n",
              "\n",
              "    .colab-df-convert:hover {\n",
              "      background-color: #E2EBFA;\n",
              "      box-shadow: 0px 1px 2px rgba(60, 64, 67, 0.3), 0px 1px 3px 1px rgba(60, 64, 67, 0.15);\n",
              "      fill: #174EA6;\n",
              "    }\n",
              "\n",
              "    [theme=dark] .colab-df-convert {\n",
              "      background-color: #3B4455;\n",
              "      fill: #D2E3FC;\n",
              "    }\n",
              "\n",
              "    [theme=dark] .colab-df-convert:hover {\n",
              "      background-color: #434B5C;\n",
              "      box-shadow: 0px 1px 3px 1px rgba(0, 0, 0, 0.15);\n",
              "      filter: drop-shadow(0px 1px 2px rgba(0, 0, 0, 0.3));\n",
              "      fill: #FFFFFF;\n",
              "    }\n",
              "  </style>\n",
              "\n",
              "      <script>\n",
              "        const buttonEl =\n",
              "          document.querySelector('#df-d899aee5-17a7-4801-b48c-66aea8973ba6 button.colab-df-convert');\n",
              "        buttonEl.style.display =\n",
              "          google.colab.kernel.accessAllowed ? 'block' : 'none';\n",
              "\n",
              "        async function convertToInteractive(key) {\n",
              "          const element = document.querySelector('#df-d899aee5-17a7-4801-b48c-66aea8973ba6');\n",
              "          const dataTable =\n",
              "            await google.colab.kernel.invokeFunction('convertToInteractive',\n",
              "                                                     [key], {});\n",
              "          if (!dataTable) return;\n",
              "\n",
              "          const docLinkHtml = 'Like what you see? Visit the ' +\n",
              "            '<a target=\"_blank\" href=https://colab.research.google.com/notebooks/data_table.ipynb>data table notebook</a>'\n",
              "            + ' to learn more about interactive tables.';\n",
              "          element.innerHTML = '';\n",
              "          dataTable['output_type'] = 'display_data';\n",
              "          await google.colab.output.renderOutput(dataTable, element);\n",
              "          const docLink = document.createElement('div');\n",
              "          docLink.innerHTML = docLinkHtml;\n",
              "          element.appendChild(docLink);\n",
              "        }\n",
              "      </script>\n",
              "    </div>\n",
              "  </div>\n",
              "  "
            ]
          },
          "metadata": {},
          "execution_count": 3
        }
      ],
      "source": [
        "# Carregamento dos dados de filmes\n",
        "df_titles = pd.read_csv(\n",
        "    '/content/movie_titles.csv', \n",
        "    encoding=\"ISO-8859-1\",     \n",
        "    header=None, \n",
        "    names=['Movie_Id', 'Year', 'Name'], \n",
        "    error_bad_lines=False\n",
        ")\n",
        "df_titles.head()"
      ]
    },
    {
      "cell_type": "markdown",
      "metadata": {
        "id": "Y_CWtu6pQV1A"
      },
      "source": [
        "##3. Descrição dos dados"
      ]
    },
    {
      "cell_type": "code",
      "execution_count": null,
      "metadata": {
        "colab": {
          "base_uri": "https://localhost:8080/"
        },
        "id": "JBjv-_8dPJt4",
        "outputId": "29ca775c-e58b-42ed-a286-28a8e46d4181"
      },
      "outputs": [
        {
          "output_type": "stream",
          "name": "stdout",
          "text": [
            "<class 'pandas.core.frame.DataFrame'>\n",
            "RangeIndex: 24058263 entries, 0 to 24058262\n",
            "Data columns (total 2 columns):\n",
            " #   Column   Dtype  \n",
            "---  ------   -----  \n",
            " 0   Cust_Id  object \n",
            " 1   Rating   float64\n",
            "dtypes: float64(1), object(1)\n",
            "memory usage: 367.1+ MB\n"
          ]
        }
      ],
      "source": [
        "# Informações sobre os tipos de dados do dataset\n",
        "df.info()"
      ]
    },
    {
      "cell_type": "code",
      "execution_count": null,
      "metadata": {
        "colab": {
          "base_uri": "https://localhost:8080/"
        },
        "id": "s-kPmpdJHswq",
        "outputId": "d7b2af21-c51a-46cd-e295-107acebe0607"
      },
      "outputs": [
        {
          "output_type": "stream",
          "name": "stdout",
          "text": [
            "<class 'pandas.core.frame.DataFrame'>\n",
            "RangeIndex: 17434 entries, 0 to 17433\n",
            "Data columns (total 3 columns):\n",
            " #   Column    Non-Null Count  Dtype  \n",
            "---  ------    --------------  -----  \n",
            " 0   Movie_Id  17434 non-null  int64  \n",
            " 1   Year      17427 non-null  float64\n",
            " 2   Name      17434 non-null  object \n",
            "dtypes: float64(1), int64(1), object(1)\n",
            "memory usage: 408.7+ KB\n"
          ]
        }
      ],
      "source": [
        "#Exibe o tipo de dados da dataset e quantidade de dados faltantes.\n",
        "df_titles.info()"
      ]
    },
    {
      "cell_type": "code",
      "execution_count": null,
      "metadata": {
        "colab": {
          "base_uri": "https://localhost:8080/",
          "height": 300
        },
        "id": "PK0l0wn0Pdom",
        "outputId": "d531eef7-65b4-41a7-8df8-df3d4f0a49b0"
      },
      "outputs": [
        {
          "output_type": "execute_result",
          "data": {
            "text/plain": [
              "             Rating\n",
              "count  2.405376e+07\n",
              "mean   3.599634e+00\n",
              "std    1.086118e+00\n",
              "min    1.000000e+00\n",
              "25%    3.000000e+00\n",
              "50%    4.000000e+00\n",
              "75%    4.000000e+00\n",
              "max    5.000000e+00"
            ],
            "text/html": [
              "\n",
              "  <div id=\"df-c6c68054-5e75-4e33-a239-2165a3ce4740\">\n",
              "    <div class=\"colab-df-container\">\n",
              "      <div>\n",
              "<style scoped>\n",
              "    .dataframe tbody tr th:only-of-type {\n",
              "        vertical-align: middle;\n",
              "    }\n",
              "\n",
              "    .dataframe tbody tr th {\n",
              "        vertical-align: top;\n",
              "    }\n",
              "\n",
              "    .dataframe thead th {\n",
              "        text-align: right;\n",
              "    }\n",
              "</style>\n",
              "<table border=\"1\" class=\"dataframe\">\n",
              "  <thead>\n",
              "    <tr style=\"text-align: right;\">\n",
              "      <th></th>\n",
              "      <th>Rating</th>\n",
              "    </tr>\n",
              "  </thead>\n",
              "  <tbody>\n",
              "    <tr>\n",
              "      <th>count</th>\n",
              "      <td>2.405376e+07</td>\n",
              "    </tr>\n",
              "    <tr>\n",
              "      <th>mean</th>\n",
              "      <td>3.599634e+00</td>\n",
              "    </tr>\n",
              "    <tr>\n",
              "      <th>std</th>\n",
              "      <td>1.086118e+00</td>\n",
              "    </tr>\n",
              "    <tr>\n",
              "      <th>min</th>\n",
              "      <td>1.000000e+00</td>\n",
              "    </tr>\n",
              "    <tr>\n",
              "      <th>25%</th>\n",
              "      <td>3.000000e+00</td>\n",
              "    </tr>\n",
              "    <tr>\n",
              "      <th>50%</th>\n",
              "      <td>4.000000e+00</td>\n",
              "    </tr>\n",
              "    <tr>\n",
              "      <th>75%</th>\n",
              "      <td>4.000000e+00</td>\n",
              "    </tr>\n",
              "    <tr>\n",
              "      <th>max</th>\n",
              "      <td>5.000000e+00</td>\n",
              "    </tr>\n",
              "  </tbody>\n",
              "</table>\n",
              "</div>\n",
              "      <button class=\"colab-df-convert\" onclick=\"convertToInteractive('df-c6c68054-5e75-4e33-a239-2165a3ce4740')\"\n",
              "              title=\"Convert this dataframe to an interactive table.\"\n",
              "              style=\"display:none;\">\n",
              "        \n",
              "  <svg xmlns=\"http://www.w3.org/2000/svg\" height=\"24px\"viewBox=\"0 0 24 24\"\n",
              "       width=\"24px\">\n",
              "    <path d=\"M0 0h24v24H0V0z\" fill=\"none\"/>\n",
              "    <path d=\"M18.56 5.44l.94 2.06.94-2.06 2.06-.94-2.06-.94-.94-2.06-.94 2.06-2.06.94zm-11 1L8.5 8.5l.94-2.06 2.06-.94-2.06-.94L8.5 2.5l-.94 2.06-2.06.94zm10 10l.94 2.06.94-2.06 2.06-.94-2.06-.94-.94-2.06-.94 2.06-2.06.94z\"/><path d=\"M17.41 7.96l-1.37-1.37c-.4-.4-.92-.59-1.43-.59-.52 0-1.04.2-1.43.59L10.3 9.45l-7.72 7.72c-.78.78-.78 2.05 0 2.83L4 21.41c.39.39.9.59 1.41.59.51 0 1.02-.2 1.41-.59l7.78-7.78 2.81-2.81c.8-.78.8-2.07 0-2.86zM5.41 20L4 18.59l7.72-7.72 1.47 1.35L5.41 20z\"/>\n",
              "  </svg>\n",
              "      </button>\n",
              "      \n",
              "  <style>\n",
              "    .colab-df-container {\n",
              "      display:flex;\n",
              "      flex-wrap:wrap;\n",
              "      gap: 12px;\n",
              "    }\n",
              "\n",
              "    .colab-df-convert {\n",
              "      background-color: #E8F0FE;\n",
              "      border: none;\n",
              "      border-radius: 50%;\n",
              "      cursor: pointer;\n",
              "      display: none;\n",
              "      fill: #1967D2;\n",
              "      height: 32px;\n",
              "      padding: 0 0 0 0;\n",
              "      width: 32px;\n",
              "    }\n",
              "\n",
              "    .colab-df-convert:hover {\n",
              "      background-color: #E2EBFA;\n",
              "      box-shadow: 0px 1px 2px rgba(60, 64, 67, 0.3), 0px 1px 3px 1px rgba(60, 64, 67, 0.15);\n",
              "      fill: #174EA6;\n",
              "    }\n",
              "\n",
              "    [theme=dark] .colab-df-convert {\n",
              "      background-color: #3B4455;\n",
              "      fill: #D2E3FC;\n",
              "    }\n",
              "\n",
              "    [theme=dark] .colab-df-convert:hover {\n",
              "      background-color: #434B5C;\n",
              "      box-shadow: 0px 1px 3px 1px rgba(0, 0, 0, 0.15);\n",
              "      filter: drop-shadow(0px 1px 2px rgba(0, 0, 0, 0.3));\n",
              "      fill: #FFFFFF;\n",
              "    }\n",
              "  </style>\n",
              "\n",
              "      <script>\n",
              "        const buttonEl =\n",
              "          document.querySelector('#df-c6c68054-5e75-4e33-a239-2165a3ce4740 button.colab-df-convert');\n",
              "        buttonEl.style.display =\n",
              "          google.colab.kernel.accessAllowed ? 'block' : 'none';\n",
              "\n",
              "        async function convertToInteractive(key) {\n",
              "          const element = document.querySelector('#df-c6c68054-5e75-4e33-a239-2165a3ce4740');\n",
              "          const dataTable =\n",
              "            await google.colab.kernel.invokeFunction('convertToInteractive',\n",
              "                                                     [key], {});\n",
              "          if (!dataTable) return;\n",
              "\n",
              "          const docLinkHtml = 'Like what you see? Visit the ' +\n",
              "            '<a target=\"_blank\" href=https://colab.research.google.com/notebooks/data_table.ipynb>data table notebook</a>'\n",
              "            + ' to learn more about interactive tables.';\n",
              "          element.innerHTML = '';\n",
              "          dataTable['output_type'] = 'display_data';\n",
              "          await google.colab.output.renderOutput(dataTable, element);\n",
              "          const docLink = document.createElement('div');\n",
              "          docLink.innerHTML = docLinkHtml;\n",
              "          element.appendChild(docLink);\n",
              "        }\n",
              "      </script>\n",
              "    </div>\n",
              "  </div>\n",
              "  "
            ]
          },
          "metadata": {},
          "execution_count": 5
        }
      ],
      "source": [
        "# Estatísticas básicas do dataset.\n",
        "df.describe()"
      ]
    },
    {
      "cell_type": "code",
      "execution_count": null,
      "metadata": {
        "colab": {
          "base_uri": "https://localhost:8080/"
        },
        "id": "5QnWKSgpPZCc",
        "outputId": "da9c6fc6-8d87-4314-9251-b87033512741"
      },
      "outputs": [
        {
          "output_type": "stream",
          "name": "stdout",
          "text": [
            "O dataset tem 24058263 linhas e 2 colunas\n"
          ]
        }
      ],
      "source": [
        "# Exibe o número de linhas x colunas e as informações do dataset.\n",
        "print('O dataset tem {} linhas e {} colunas'.format(df.shape[0], df.shape[1]))"
      ]
    },
    {
      "cell_type": "code",
      "execution_count": null,
      "metadata": {
        "colab": {
          "base_uri": "https://localhost:8080/",
          "height": 300
        },
        "id": "wOOIuy-uKyA6",
        "outputId": "a5bdad60-0e7f-45ff-e9d4-44f6fb49af80"
      },
      "outputs": [
        {
          "output_type": "execute_result",
          "data": {
            "text/plain": [
              "           Movie_Id          Year\n",
              "count  17434.000000  17427.000000\n",
              "mean    8879.132500   1990.295633\n",
              "std     5129.547238     16.489299\n",
              "min        1.000000   1896.000000\n",
              "25%     4443.500000   1985.000000\n",
              "50%     8873.000000   1997.000000\n",
              "75%    13321.750000   2002.000000\n",
              "max    17770.000000   2005.000000"
            ],
            "text/html": [
              "\n",
              "  <div id=\"df-17e25aa6-0205-439c-9fe4-54f92836ce7f\">\n",
              "    <div class=\"colab-df-container\">\n",
              "      <div>\n",
              "<style scoped>\n",
              "    .dataframe tbody tr th:only-of-type {\n",
              "        vertical-align: middle;\n",
              "    }\n",
              "\n",
              "    .dataframe tbody tr th {\n",
              "        vertical-align: top;\n",
              "    }\n",
              "\n",
              "    .dataframe thead th {\n",
              "        text-align: right;\n",
              "    }\n",
              "</style>\n",
              "<table border=\"1\" class=\"dataframe\">\n",
              "  <thead>\n",
              "    <tr style=\"text-align: right;\">\n",
              "      <th></th>\n",
              "      <th>Movie_Id</th>\n",
              "      <th>Year</th>\n",
              "    </tr>\n",
              "  </thead>\n",
              "  <tbody>\n",
              "    <tr>\n",
              "      <th>count</th>\n",
              "      <td>17434.000000</td>\n",
              "      <td>17427.000000</td>\n",
              "    </tr>\n",
              "    <tr>\n",
              "      <th>mean</th>\n",
              "      <td>8879.132500</td>\n",
              "      <td>1990.295633</td>\n",
              "    </tr>\n",
              "    <tr>\n",
              "      <th>std</th>\n",
              "      <td>5129.547238</td>\n",
              "      <td>16.489299</td>\n",
              "    </tr>\n",
              "    <tr>\n",
              "      <th>min</th>\n",
              "      <td>1.000000</td>\n",
              "      <td>1896.000000</td>\n",
              "    </tr>\n",
              "    <tr>\n",
              "      <th>25%</th>\n",
              "      <td>4443.500000</td>\n",
              "      <td>1985.000000</td>\n",
              "    </tr>\n",
              "    <tr>\n",
              "      <th>50%</th>\n",
              "      <td>8873.000000</td>\n",
              "      <td>1997.000000</td>\n",
              "    </tr>\n",
              "    <tr>\n",
              "      <th>75%</th>\n",
              "      <td>13321.750000</td>\n",
              "      <td>2002.000000</td>\n",
              "    </tr>\n",
              "    <tr>\n",
              "      <th>max</th>\n",
              "      <td>17770.000000</td>\n",
              "      <td>2005.000000</td>\n",
              "    </tr>\n",
              "  </tbody>\n",
              "</table>\n",
              "</div>\n",
              "      <button class=\"colab-df-convert\" onclick=\"convertToInteractive('df-17e25aa6-0205-439c-9fe4-54f92836ce7f')\"\n",
              "              title=\"Convert this dataframe to an interactive table.\"\n",
              "              style=\"display:none;\">\n",
              "        \n",
              "  <svg xmlns=\"http://www.w3.org/2000/svg\" height=\"24px\"viewBox=\"0 0 24 24\"\n",
              "       width=\"24px\">\n",
              "    <path d=\"M0 0h24v24H0V0z\" fill=\"none\"/>\n",
              "    <path d=\"M18.56 5.44l.94 2.06.94-2.06 2.06-.94-2.06-.94-.94-2.06-.94 2.06-2.06.94zm-11 1L8.5 8.5l.94-2.06 2.06-.94-2.06-.94L8.5 2.5l-.94 2.06-2.06.94zm10 10l.94 2.06.94-2.06 2.06-.94-2.06-.94-.94-2.06-.94 2.06-2.06.94z\"/><path d=\"M17.41 7.96l-1.37-1.37c-.4-.4-.92-.59-1.43-.59-.52 0-1.04.2-1.43.59L10.3 9.45l-7.72 7.72c-.78.78-.78 2.05 0 2.83L4 21.41c.39.39.9.59 1.41.59.51 0 1.02-.2 1.41-.59l7.78-7.78 2.81-2.81c.8-.78.8-2.07 0-2.86zM5.41 20L4 18.59l7.72-7.72 1.47 1.35L5.41 20z\"/>\n",
              "  </svg>\n",
              "      </button>\n",
              "      \n",
              "  <style>\n",
              "    .colab-df-container {\n",
              "      display:flex;\n",
              "      flex-wrap:wrap;\n",
              "      gap: 12px;\n",
              "    }\n",
              "\n",
              "    .colab-df-convert {\n",
              "      background-color: #E8F0FE;\n",
              "      border: none;\n",
              "      border-radius: 50%;\n",
              "      cursor: pointer;\n",
              "      display: none;\n",
              "      fill: #1967D2;\n",
              "      height: 32px;\n",
              "      padding: 0 0 0 0;\n",
              "      width: 32px;\n",
              "    }\n",
              "\n",
              "    .colab-df-convert:hover {\n",
              "      background-color: #E2EBFA;\n",
              "      box-shadow: 0px 1px 2px rgba(60, 64, 67, 0.3), 0px 1px 3px 1px rgba(60, 64, 67, 0.15);\n",
              "      fill: #174EA6;\n",
              "    }\n",
              "\n",
              "    [theme=dark] .colab-df-convert {\n",
              "      background-color: #3B4455;\n",
              "      fill: #D2E3FC;\n",
              "    }\n",
              "\n",
              "    [theme=dark] .colab-df-convert:hover {\n",
              "      background-color: #434B5C;\n",
              "      box-shadow: 0px 1px 3px 1px rgba(0, 0, 0, 0.15);\n",
              "      filter: drop-shadow(0px 1px 2px rgba(0, 0, 0, 0.3));\n",
              "      fill: #FFFFFF;\n",
              "    }\n",
              "  </style>\n",
              "\n",
              "      <script>\n",
              "        const buttonEl =\n",
              "          document.querySelector('#df-17e25aa6-0205-439c-9fe4-54f92836ce7f button.colab-df-convert');\n",
              "        buttonEl.style.display =\n",
              "          google.colab.kernel.accessAllowed ? 'block' : 'none';\n",
              "\n",
              "        async function convertToInteractive(key) {\n",
              "          const element = document.querySelector('#df-17e25aa6-0205-439c-9fe4-54f92836ce7f');\n",
              "          const dataTable =\n",
              "            await google.colab.kernel.invokeFunction('convertToInteractive',\n",
              "                                                     [key], {});\n",
              "          if (!dataTable) return;\n",
              "\n",
              "          const docLinkHtml = 'Like what you see? Visit the ' +\n",
              "            '<a target=\"_blank\" href=https://colab.research.google.com/notebooks/data_table.ipynb>data table notebook</a>'\n",
              "            + ' to learn more about interactive tables.';\n",
              "          element.innerHTML = '';\n",
              "          dataTable['output_type'] = 'display_data';\n",
              "          await google.colab.output.renderOutput(dataTable, element);\n",
              "          const docLink = document.createElement('div');\n",
              "          docLink.innerHTML = docLinkHtml;\n",
              "          element.appendChild(docLink);\n",
              "        }\n",
              "      </script>\n",
              "    </div>\n",
              "  </div>\n",
              "  "
            ]
          },
          "metadata": {},
          "execution_count": 7
        }
      ],
      "source": [
        "# Estatísticas básicas do dataset de filmes\n",
        "df_titles.describe()"
      ]
    },
    {
      "cell_type": "code",
      "execution_count": null,
      "metadata": {
        "colab": {
          "base_uri": "https://localhost:8080/"
        },
        "id": "OOZ_vARfKqEz",
        "outputId": "35365325-69ff-47cd-c54a-d2e1723621ee"
      },
      "outputs": [
        {
          "output_type": "stream",
          "name": "stdout",
          "text": [
            "O dataset tem 17434 linhas e 3 colunas\n"
          ]
        }
      ],
      "source": [
        "# Exibe o número de linhas x colunas e as informações do dataset.\n",
        "print('O dataset tem {} linhas e {} colunas'.format(df_titles.shape[0], df_titles.shape[1]))"
      ]
    },
    {
      "cell_type": "markdown",
      "metadata": {
        "id": "KP4g2beoJ4-R"
      },
      "source": [
        "##4. Limpeza e transformação dos dados"
      ]
    },
    {
      "cell_type": "code",
      "execution_count": null,
      "metadata": {
        "colab": {
          "base_uri": "https://localhost:8080/"
        },
        "id": "u1WSagZyKRe2",
        "outputId": "a160484a-d393-4402-9257-2220d1678a96"
      },
      "outputs": [
        {
          "output_type": "execute_result",
          "data": {
            "text/plain": [
              "Movie_Id    0\n",
              "Year        7\n",
              "Name        0\n",
              "dtype: int64"
            ]
          },
          "metadata": {},
          "execution_count": 10
        }
      ],
      "source": [
        "# Contando a quantidade de linhas nulas\n",
        "df_titles.isnull().sum()"
      ]
    },
    {
      "cell_type": "code",
      "execution_count": null,
      "metadata": {
        "id": "d-mnxgBvKjhb"
      },
      "outputs": [],
      "source": [
        "# Removendo linhas com valores nulos\n",
        "df_titles.dropna(inplace=True)\n"
      ]
    },
    {
      "cell_type": "code",
      "execution_count": null,
      "metadata": {
        "id": "BazsNPxAKCSO"
      },
      "outputs": [],
      "source": [
        "# Convertendo a coluna de ano para o tipo inteiro\n",
        "df_titles['Year'] = df_titles['Year'].astype(int)"
      ]
    },
    {
      "cell_type": "code",
      "execution_count": null,
      "metadata": {
        "colab": {
          "base_uri": "https://localhost:8080/"
        },
        "id": "EEV6xQ3BNI0S",
        "outputId": "f3187a84-266a-420e-bf35-78a2ee61718c"
      },
      "outputs": [
        {
          "output_type": "stream",
          "name": "stdout",
          "text": [
            "Quantidade de linhas duplicadas: 0        False\n",
            "1        False\n",
            "2        False\n",
            "3        False\n",
            "4        False\n",
            "         ...  \n",
            "17429    False\n",
            "17430    False\n",
            "17431    False\n",
            "17432    False\n",
            "17433    False\n",
            "Length: 17427, dtype: bool\n"
          ]
        }
      ],
      "source": [
        "# Verificar se há linhas duplicadas\n",
        "print('Quantidade de linhas duplicadas: {}'.format(df_titles.duplicated()))\n"
      ]
    },
    {
      "cell_type": "code",
      "execution_count": null,
      "metadata": {
        "id": "yy6BmABeRs8-"
      },
      "outputs": [],
      "source": [
        "# Remover espaços em branco no início e no final da string\n",
        "df_titles['Name'] = df_titles['Name'].str.strip()"
      ]
    },
    {
      "cell_type": "code",
      "execution_count": null,
      "metadata": {
        "colab": {
          "base_uri": "https://localhost:8080/",
          "height": 424
        },
        "id": "g4dddNpCHpb7",
        "outputId": "d41e536c-1bba-471f-d24d-e091386a7cff"
      },
      "outputs": [
        {
          "output_type": "execute_result",
          "data": {
            "text/plain": [
              "       Movie_Id  Year                                               Name\n",
              "0             1  2003                                    Dinosaur Planet\n",
              "1             2  2004                         Isle of Man TT 2004 Review\n",
              "2             3  1997                                          Character\n",
              "3             4  1994                       Paula Abdul's Get Up & Dance\n",
              "4             5  2004                           The Rise and Fall of ECW\n",
              "...         ...   ...                                                ...\n",
              "17429     17766  2002  Where the Wild Things Are and Other Maurice Se...\n",
              "17430     17767  2004                  Fidel Castro: American Experience\n",
              "17431     17768  2000                                              Epoch\n",
              "17432     17769  2003                                        The Company\n",
              "17433     17770  2003                                       Alien Hunter\n",
              "\n",
              "[17427 rows x 3 columns]"
            ],
            "text/html": [
              "\n",
              "  <div id=\"df-ed835940-b1dc-4451-9963-b0e4b9aa3d75\">\n",
              "    <div class=\"colab-df-container\">\n",
              "      <div>\n",
              "<style scoped>\n",
              "    .dataframe tbody tr th:only-of-type {\n",
              "        vertical-align: middle;\n",
              "    }\n",
              "\n",
              "    .dataframe tbody tr th {\n",
              "        vertical-align: top;\n",
              "    }\n",
              "\n",
              "    .dataframe thead th {\n",
              "        text-align: right;\n",
              "    }\n",
              "</style>\n",
              "<table border=\"1\" class=\"dataframe\">\n",
              "  <thead>\n",
              "    <tr style=\"text-align: right;\">\n",
              "      <th></th>\n",
              "      <th>Movie_Id</th>\n",
              "      <th>Year</th>\n",
              "      <th>Name</th>\n",
              "    </tr>\n",
              "  </thead>\n",
              "  <tbody>\n",
              "    <tr>\n",
              "      <th>0</th>\n",
              "      <td>1</td>\n",
              "      <td>2003</td>\n",
              "      <td>Dinosaur Planet</td>\n",
              "    </tr>\n",
              "    <tr>\n",
              "      <th>1</th>\n",
              "      <td>2</td>\n",
              "      <td>2004</td>\n",
              "      <td>Isle of Man TT 2004 Review</td>\n",
              "    </tr>\n",
              "    <tr>\n",
              "      <th>2</th>\n",
              "      <td>3</td>\n",
              "      <td>1997</td>\n",
              "      <td>Character</td>\n",
              "    </tr>\n",
              "    <tr>\n",
              "      <th>3</th>\n",
              "      <td>4</td>\n",
              "      <td>1994</td>\n",
              "      <td>Paula Abdul's Get Up &amp; Dance</td>\n",
              "    </tr>\n",
              "    <tr>\n",
              "      <th>4</th>\n",
              "      <td>5</td>\n",
              "      <td>2004</td>\n",
              "      <td>The Rise and Fall of ECW</td>\n",
              "    </tr>\n",
              "    <tr>\n",
              "      <th>...</th>\n",
              "      <td>...</td>\n",
              "      <td>...</td>\n",
              "      <td>...</td>\n",
              "    </tr>\n",
              "    <tr>\n",
              "      <th>17429</th>\n",
              "      <td>17766</td>\n",
              "      <td>2002</td>\n",
              "      <td>Where the Wild Things Are and Other Maurice Se...</td>\n",
              "    </tr>\n",
              "    <tr>\n",
              "      <th>17430</th>\n",
              "      <td>17767</td>\n",
              "      <td>2004</td>\n",
              "      <td>Fidel Castro: American Experience</td>\n",
              "    </tr>\n",
              "    <tr>\n",
              "      <th>17431</th>\n",
              "      <td>17768</td>\n",
              "      <td>2000</td>\n",
              "      <td>Epoch</td>\n",
              "    </tr>\n",
              "    <tr>\n",
              "      <th>17432</th>\n",
              "      <td>17769</td>\n",
              "      <td>2003</td>\n",
              "      <td>The Company</td>\n",
              "    </tr>\n",
              "    <tr>\n",
              "      <th>17433</th>\n",
              "      <td>17770</td>\n",
              "      <td>2003</td>\n",
              "      <td>Alien Hunter</td>\n",
              "    </tr>\n",
              "  </tbody>\n",
              "</table>\n",
              "<p>17427 rows × 3 columns</p>\n",
              "</div>\n",
              "      <button class=\"colab-df-convert\" onclick=\"convertToInteractive('df-ed835940-b1dc-4451-9963-b0e4b9aa3d75')\"\n",
              "              title=\"Convert this dataframe to an interactive table.\"\n",
              "              style=\"display:none;\">\n",
              "        \n",
              "  <svg xmlns=\"http://www.w3.org/2000/svg\" height=\"24px\"viewBox=\"0 0 24 24\"\n",
              "       width=\"24px\">\n",
              "    <path d=\"M0 0h24v24H0V0z\" fill=\"none\"/>\n",
              "    <path d=\"M18.56 5.44l.94 2.06.94-2.06 2.06-.94-2.06-.94-.94-2.06-.94 2.06-2.06.94zm-11 1L8.5 8.5l.94-2.06 2.06-.94-2.06-.94L8.5 2.5l-.94 2.06-2.06.94zm10 10l.94 2.06.94-2.06 2.06-.94-2.06-.94-.94-2.06-.94 2.06-2.06.94z\"/><path d=\"M17.41 7.96l-1.37-1.37c-.4-.4-.92-.59-1.43-.59-.52 0-1.04.2-1.43.59L10.3 9.45l-7.72 7.72c-.78.78-.78 2.05 0 2.83L4 21.41c.39.39.9.59 1.41.59.51 0 1.02-.2 1.41-.59l7.78-7.78 2.81-2.81c.8-.78.8-2.07 0-2.86zM5.41 20L4 18.59l7.72-7.72 1.47 1.35L5.41 20z\"/>\n",
              "  </svg>\n",
              "      </button>\n",
              "      \n",
              "  <style>\n",
              "    .colab-df-container {\n",
              "      display:flex;\n",
              "      flex-wrap:wrap;\n",
              "      gap: 12px;\n",
              "    }\n",
              "\n",
              "    .colab-df-convert {\n",
              "      background-color: #E8F0FE;\n",
              "      border: none;\n",
              "      border-radius: 50%;\n",
              "      cursor: pointer;\n",
              "      display: none;\n",
              "      fill: #1967D2;\n",
              "      height: 32px;\n",
              "      padding: 0 0 0 0;\n",
              "      width: 32px;\n",
              "    }\n",
              "\n",
              "    .colab-df-convert:hover {\n",
              "      background-color: #E2EBFA;\n",
              "      box-shadow: 0px 1px 2px rgba(60, 64, 67, 0.3), 0px 1px 3px 1px rgba(60, 64, 67, 0.15);\n",
              "      fill: #174EA6;\n",
              "    }\n",
              "\n",
              "    [theme=dark] .colab-df-convert {\n",
              "      background-color: #3B4455;\n",
              "      fill: #D2E3FC;\n",
              "    }\n",
              "\n",
              "    [theme=dark] .colab-df-convert:hover {\n",
              "      background-color: #434B5C;\n",
              "      box-shadow: 0px 1px 3px 1px rgba(0, 0, 0, 0.15);\n",
              "      filter: drop-shadow(0px 1px 2px rgba(0, 0, 0, 0.3));\n",
              "      fill: #FFFFFF;\n",
              "    }\n",
              "  </style>\n",
              "\n",
              "      <script>\n",
              "        const buttonEl =\n",
              "          document.querySelector('#df-ed835940-b1dc-4451-9963-b0e4b9aa3d75 button.colab-df-convert');\n",
              "        buttonEl.style.display =\n",
              "          google.colab.kernel.accessAllowed ? 'block' : 'none';\n",
              "\n",
              "        async function convertToInteractive(key) {\n",
              "          const element = document.querySelector('#df-ed835940-b1dc-4451-9963-b0e4b9aa3d75');\n",
              "          const dataTable =\n",
              "            await google.colab.kernel.invokeFunction('convertToInteractive',\n",
              "                                                     [key], {});\n",
              "          if (!dataTable) return;\n",
              "\n",
              "          const docLinkHtml = 'Like what you see? Visit the ' +\n",
              "            '<a target=\"_blank\" href=https://colab.research.google.com/notebooks/data_table.ipynb>data table notebook</a>'\n",
              "            + ' to learn more about interactive tables.';\n",
              "          element.innerHTML = '';\n",
              "          dataTable['output_type'] = 'display_data';\n",
              "          await google.colab.output.renderOutput(dataTable, element);\n",
              "          const docLink = document.createElement('div');\n",
              "          docLink.innerHTML = docLinkHtml;\n",
              "          element.appendChild(docLink);\n",
              "        }\n",
              "      </script>\n",
              "    </div>\n",
              "  </div>\n",
              "  "
            ]
          },
          "metadata": {},
          "execution_count": 15
        }
      ],
      "source": [
        "# Exibe o dataset com os títulos dos filmes\n",
        "df_titles"
      ]
    },
    {
      "cell_type": "code",
      "execution_count": null,
      "metadata": {
        "id": "0R0FkOACijei"
      },
      "outputs": [],
      "source": [
        "# Criar um novo dataset chamado \"df_emptyValues\" \n",
        "# que contém apenas valores nulos (NaN) da coluna \"Rating\" do dataset \"df\"\n",
        "\n",
        "df_emptyValues = pd.DataFrame(pd.isnull(df.Rating))\n",
        "df_emptyValues = df_emptyValues[df_emptyValues['Rating'] == True]\n",
        "df_emptyValues = df_emptyValues.reset_index()"
      ]
    },
    {
      "cell_type": "code",
      "execution_count": null,
      "metadata": {
        "id": "pb_N7DoHhW9J"
      },
      "outputs": [],
      "source": [
        "# Adicionar a coluna Movie_Id no dataset\n",
        "movie_np = []\n",
        "movie_id = 1\n",
        "\n",
        "\n",
        "for i,j in zip(df_emptyValues['index'][1:],df_emptyValues['index'][:-1]):    \n",
        "    temp = np.full((1,i-j-1), movie_id)\n",
        "    movie_np = np.append(movie_np, temp)\n",
        "    movie_id += 1"
      ]
    },
    {
      "cell_type": "code",
      "execution_count": null,
      "metadata": {
        "colab": {
          "base_uri": "https://localhost:8080/"
        },
        "id": "Z-uw5F8MmEux",
        "outputId": "23d2b23a-dfa3-4a5a-9de1-6fd54b6f75a0"
      },
      "outputs": [
        {
          "output_type": "execute_result",
          "data": {
            "text/plain": [
              "('Movie numpy: [1.000e+00 1.000e+00 1.000e+00 ... 4.499e+03 4.499e+03 4.499e+03]',\n",
              " 'Length: 24053764')"
            ]
          },
          "metadata": {},
          "execution_count": 18
        }
      ],
      "source": [
        "# Conta o último registro e seu comprimento\n",
        "last_record = np.full((1,len(df) - df_emptyValues.iloc[-1, 0] - 1),movie_id)\n",
        "movie_np = np.append(movie_np, last_record)\n",
        "'Movie numpy: {}'.format(movie_np), 'Length: {}'.format(len(movie_np))"
      ]
    },
    {
      "cell_type": "code",
      "execution_count": null,
      "metadata": {
        "colab": {
          "base_uri": "https://localhost:8080/",
          "height": 206
        },
        "id": "-Mg3fxW0h9rD",
        "outputId": "d8bc645e-8836-4ad2-b437-1703ea8b0bce"
      },
      "outputs": [
        {
          "output_type": "execute_result",
          "data": {
            "text/plain": [
              "          Cust_Id  Rating  Movie_Id\n",
              "1         1488844     3.0         1\n",
              "5000996    501954     2.0       996\n",
              "10001962   404654     5.0      1962\n",
              "15002876   886608     2.0      2876\n",
              "20003825  1193835     2.0      3825"
            ],
            "text/html": [
              "\n",
              "  <div id=\"df-47267115-b9c0-431c-996e-ab18367724c2\">\n",
              "    <div class=\"colab-df-container\">\n",
              "      <div>\n",
              "<style scoped>\n",
              "    .dataframe tbody tr th:only-of-type {\n",
              "        vertical-align: middle;\n",
              "    }\n",
              "\n",
              "    .dataframe tbody tr th {\n",
              "        vertical-align: top;\n",
              "    }\n",
              "\n",
              "    .dataframe thead th {\n",
              "        text-align: right;\n",
              "    }\n",
              "</style>\n",
              "<table border=\"1\" class=\"dataframe\">\n",
              "  <thead>\n",
              "    <tr style=\"text-align: right;\">\n",
              "      <th></th>\n",
              "      <th>Cust_Id</th>\n",
              "      <th>Rating</th>\n",
              "      <th>Movie_Id</th>\n",
              "    </tr>\n",
              "  </thead>\n",
              "  <tbody>\n",
              "    <tr>\n",
              "      <th>1</th>\n",
              "      <td>1488844</td>\n",
              "      <td>3.0</td>\n",
              "      <td>1</td>\n",
              "    </tr>\n",
              "    <tr>\n",
              "      <th>5000996</th>\n",
              "      <td>501954</td>\n",
              "      <td>2.0</td>\n",
              "      <td>996</td>\n",
              "    </tr>\n",
              "    <tr>\n",
              "      <th>10001962</th>\n",
              "      <td>404654</td>\n",
              "      <td>5.0</td>\n",
              "      <td>1962</td>\n",
              "    </tr>\n",
              "    <tr>\n",
              "      <th>15002876</th>\n",
              "      <td>886608</td>\n",
              "      <td>2.0</td>\n",
              "      <td>2876</td>\n",
              "    </tr>\n",
              "    <tr>\n",
              "      <th>20003825</th>\n",
              "      <td>1193835</td>\n",
              "      <td>2.0</td>\n",
              "      <td>3825</td>\n",
              "    </tr>\n",
              "  </tbody>\n",
              "</table>\n",
              "</div>\n",
              "      <button class=\"colab-df-convert\" onclick=\"convertToInteractive('df-47267115-b9c0-431c-996e-ab18367724c2')\"\n",
              "              title=\"Convert this dataframe to an interactive table.\"\n",
              "              style=\"display:none;\">\n",
              "        \n",
              "  <svg xmlns=\"http://www.w3.org/2000/svg\" height=\"24px\"viewBox=\"0 0 24 24\"\n",
              "       width=\"24px\">\n",
              "    <path d=\"M0 0h24v24H0V0z\" fill=\"none\"/>\n",
              "    <path d=\"M18.56 5.44l.94 2.06.94-2.06 2.06-.94-2.06-.94-.94-2.06-.94 2.06-2.06.94zm-11 1L8.5 8.5l.94-2.06 2.06-.94-2.06-.94L8.5 2.5l-.94 2.06-2.06.94zm10 10l.94 2.06.94-2.06 2.06-.94-2.06-.94-.94-2.06-.94 2.06-2.06.94z\"/><path d=\"M17.41 7.96l-1.37-1.37c-.4-.4-.92-.59-1.43-.59-.52 0-1.04.2-1.43.59L10.3 9.45l-7.72 7.72c-.78.78-.78 2.05 0 2.83L4 21.41c.39.39.9.59 1.41.59.51 0 1.02-.2 1.41-.59l7.78-7.78 2.81-2.81c.8-.78.8-2.07 0-2.86zM5.41 20L4 18.59l7.72-7.72 1.47 1.35L5.41 20z\"/>\n",
              "  </svg>\n",
              "      </button>\n",
              "      \n",
              "  <style>\n",
              "    .colab-df-container {\n",
              "      display:flex;\n",
              "      flex-wrap:wrap;\n",
              "      gap: 12px;\n",
              "    }\n",
              "\n",
              "    .colab-df-convert {\n",
              "      background-color: #E8F0FE;\n",
              "      border: none;\n",
              "      border-radius: 50%;\n",
              "      cursor: pointer;\n",
              "      display: none;\n",
              "      fill: #1967D2;\n",
              "      height: 32px;\n",
              "      padding: 0 0 0 0;\n",
              "      width: 32px;\n",
              "    }\n",
              "\n",
              "    .colab-df-convert:hover {\n",
              "      background-color: #E2EBFA;\n",
              "      box-shadow: 0px 1px 2px rgba(60, 64, 67, 0.3), 0px 1px 3px 1px rgba(60, 64, 67, 0.15);\n",
              "      fill: #174EA6;\n",
              "    }\n",
              "\n",
              "    [theme=dark] .colab-df-convert {\n",
              "      background-color: #3B4455;\n",
              "      fill: #D2E3FC;\n",
              "    }\n",
              "\n",
              "    [theme=dark] .colab-df-convert:hover {\n",
              "      background-color: #434B5C;\n",
              "      box-shadow: 0px 1px 3px 1px rgba(0, 0, 0, 0.15);\n",
              "      filter: drop-shadow(0px 1px 2px rgba(0, 0, 0, 0.3));\n",
              "      fill: #FFFFFF;\n",
              "    }\n",
              "  </style>\n",
              "\n",
              "      <script>\n",
              "        const buttonEl =\n",
              "          document.querySelector('#df-47267115-b9c0-431c-996e-ab18367724c2 button.colab-df-convert');\n",
              "        buttonEl.style.display =\n",
              "          google.colab.kernel.accessAllowed ? 'block' : 'none';\n",
              "\n",
              "        async function convertToInteractive(key) {\n",
              "          const element = document.querySelector('#df-47267115-b9c0-431c-996e-ab18367724c2');\n",
              "          const dataTable =\n",
              "            await google.colab.kernel.invokeFunction('convertToInteractive',\n",
              "                                                     [key], {});\n",
              "          if (!dataTable) return;\n",
              "\n",
              "          const docLinkHtml = 'Like what you see? Visit the ' +\n",
              "            '<a target=\"_blank\" href=https://colab.research.google.com/notebooks/data_table.ipynb>data table notebook</a>'\n",
              "            + ' to learn more about interactive tables.';\n",
              "          element.innerHTML = '';\n",
              "          dataTable['output_type'] = 'display_data';\n",
              "          await google.colab.output.renderOutput(dataTable, element);\n",
              "          const docLink = document.createElement('div');\n",
              "          docLink.innerHTML = docLinkHtml;\n",
              "          element.appendChild(docLink);\n",
              "        }\n",
              "      </script>\n",
              "    </div>\n",
              "  </div>\n",
              "  "
            ]
          },
          "metadata": {},
          "execution_count": 19
        }
      ],
      "source": [
        "# Remove as linhas do Movie ID\n",
        "df = df[pd.notnull(df['Rating'])]\n",
        "\n",
        "df['Movie_Id'] = movie_np.astype(int)\n",
        "df['Cust_Id'] = df['Cust_Id'].astype(int)\n",
        "df.iloc[::5000000, :]"
      ]
    },
    {
      "cell_type": "code",
      "execution_count": null,
      "metadata": {
        "colab": {
          "base_uri": "https://localhost:8080/",
          "height": 206
        },
        "id": "5WYZUCR9lqRS",
        "outputId": "b42fe8d1-0c39-4575-f491-38ff1918a24b"
      },
      "outputs": [
        {
          "output_type": "execute_result",
          "data": {
            "text/plain": [
              "   Cust_Id  Rating  Movie_Id\n",
              "1  1488844     3.0         1\n",
              "2   822109     5.0         1\n",
              "3   885013     4.0         1\n",
              "4    30878     4.0         1\n",
              "5   823519     3.0         1"
            ],
            "text/html": [
              "\n",
              "  <div id=\"df-ccee1d3f-363b-4381-b820-4b45ab4581ea\">\n",
              "    <div class=\"colab-df-container\">\n",
              "      <div>\n",
              "<style scoped>\n",
              "    .dataframe tbody tr th:only-of-type {\n",
              "        vertical-align: middle;\n",
              "    }\n",
              "\n",
              "    .dataframe tbody tr th {\n",
              "        vertical-align: top;\n",
              "    }\n",
              "\n",
              "    .dataframe thead th {\n",
              "        text-align: right;\n",
              "    }\n",
              "</style>\n",
              "<table border=\"1\" class=\"dataframe\">\n",
              "  <thead>\n",
              "    <tr style=\"text-align: right;\">\n",
              "      <th></th>\n",
              "      <th>Cust_Id</th>\n",
              "      <th>Rating</th>\n",
              "      <th>Movie_Id</th>\n",
              "    </tr>\n",
              "  </thead>\n",
              "  <tbody>\n",
              "    <tr>\n",
              "      <th>1</th>\n",
              "      <td>1488844</td>\n",
              "      <td>3.0</td>\n",
              "      <td>1</td>\n",
              "    </tr>\n",
              "    <tr>\n",
              "      <th>2</th>\n",
              "      <td>822109</td>\n",
              "      <td>5.0</td>\n",
              "      <td>1</td>\n",
              "    </tr>\n",
              "    <tr>\n",
              "      <th>3</th>\n",
              "      <td>885013</td>\n",
              "      <td>4.0</td>\n",
              "      <td>1</td>\n",
              "    </tr>\n",
              "    <tr>\n",
              "      <th>4</th>\n",
              "      <td>30878</td>\n",
              "      <td>4.0</td>\n",
              "      <td>1</td>\n",
              "    </tr>\n",
              "    <tr>\n",
              "      <th>5</th>\n",
              "      <td>823519</td>\n",
              "      <td>3.0</td>\n",
              "      <td>1</td>\n",
              "    </tr>\n",
              "  </tbody>\n",
              "</table>\n",
              "</div>\n",
              "      <button class=\"colab-df-convert\" onclick=\"convertToInteractive('df-ccee1d3f-363b-4381-b820-4b45ab4581ea')\"\n",
              "              title=\"Convert this dataframe to an interactive table.\"\n",
              "              style=\"display:none;\">\n",
              "        \n",
              "  <svg xmlns=\"http://www.w3.org/2000/svg\" height=\"24px\"viewBox=\"0 0 24 24\"\n",
              "       width=\"24px\">\n",
              "    <path d=\"M0 0h24v24H0V0z\" fill=\"none\"/>\n",
              "    <path d=\"M18.56 5.44l.94 2.06.94-2.06 2.06-.94-2.06-.94-.94-2.06-.94 2.06-2.06.94zm-11 1L8.5 8.5l.94-2.06 2.06-.94-2.06-.94L8.5 2.5l-.94 2.06-2.06.94zm10 10l.94 2.06.94-2.06 2.06-.94-2.06-.94-.94-2.06-.94 2.06-2.06.94z\"/><path d=\"M17.41 7.96l-1.37-1.37c-.4-.4-.92-.59-1.43-.59-.52 0-1.04.2-1.43.59L10.3 9.45l-7.72 7.72c-.78.78-.78 2.05 0 2.83L4 21.41c.39.39.9.59 1.41.59.51 0 1.02-.2 1.41-.59l7.78-7.78 2.81-2.81c.8-.78.8-2.07 0-2.86zM5.41 20L4 18.59l7.72-7.72 1.47 1.35L5.41 20z\"/>\n",
              "  </svg>\n",
              "      </button>\n",
              "      \n",
              "  <style>\n",
              "    .colab-df-container {\n",
              "      display:flex;\n",
              "      flex-wrap:wrap;\n",
              "      gap: 12px;\n",
              "    }\n",
              "\n",
              "    .colab-df-convert {\n",
              "      background-color: #E8F0FE;\n",
              "      border: none;\n",
              "      border-radius: 50%;\n",
              "      cursor: pointer;\n",
              "      display: none;\n",
              "      fill: #1967D2;\n",
              "      height: 32px;\n",
              "      padding: 0 0 0 0;\n",
              "      width: 32px;\n",
              "    }\n",
              "\n",
              "    .colab-df-convert:hover {\n",
              "      background-color: #E2EBFA;\n",
              "      box-shadow: 0px 1px 2px rgba(60, 64, 67, 0.3), 0px 1px 3px 1px rgba(60, 64, 67, 0.15);\n",
              "      fill: #174EA6;\n",
              "    }\n",
              "\n",
              "    [theme=dark] .colab-df-convert {\n",
              "      background-color: #3B4455;\n",
              "      fill: #D2E3FC;\n",
              "    }\n",
              "\n",
              "    [theme=dark] .colab-df-convert:hover {\n",
              "      background-color: #434B5C;\n",
              "      box-shadow: 0px 1px 3px 1px rgba(0, 0, 0, 0.15);\n",
              "      filter: drop-shadow(0px 1px 2px rgba(0, 0, 0, 0.3));\n",
              "      fill: #FFFFFF;\n",
              "    }\n",
              "  </style>\n",
              "\n",
              "      <script>\n",
              "        const buttonEl =\n",
              "          document.querySelector('#df-ccee1d3f-363b-4381-b820-4b45ab4581ea button.colab-df-convert');\n",
              "        buttonEl.style.display =\n",
              "          google.colab.kernel.accessAllowed ? 'block' : 'none';\n",
              "\n",
              "        async function convertToInteractive(key) {\n",
              "          const element = document.querySelector('#df-ccee1d3f-363b-4381-b820-4b45ab4581ea');\n",
              "          const dataTable =\n",
              "            await google.colab.kernel.invokeFunction('convertToInteractive',\n",
              "                                                     [key], {});\n",
              "          if (!dataTable) return;\n",
              "\n",
              "          const docLinkHtml = 'Like what you see? Visit the ' +\n",
              "            '<a target=\"_blank\" href=https://colab.research.google.com/notebooks/data_table.ipynb>data table notebook</a>'\n",
              "            + ' to learn more about interactive tables.';\n",
              "          element.innerHTML = '';\n",
              "          dataTable['output_type'] = 'display_data';\n",
              "          await google.colab.output.renderOutput(dataTable, element);\n",
              "          const docLink = document.createElement('div');\n",
              "          docLink.innerHTML = docLinkHtml;\n",
              "          element.appendChild(docLink);\n",
              "        }\n",
              "      </script>\n",
              "    </div>\n",
              "  </div>\n",
              "  "
            ]
          },
          "metadata": {},
          "execution_count": 20
        }
      ],
      "source": [
        "df.head()"
      ]
    },
    {
      "cell_type": "markdown",
      "metadata": {
        "id": "-tfkXi6XGMpt"
      },
      "source": [
        "## 5. Análises exploratória dos dados"
      ]
    },
    {
      "cell_type": "code",
      "source": [
        "print(\"Totalizadores\")\n",
        "print(\"-\"*50)\n",
        "print(\"\\nTotal de classificações :\",df.shape[0])\n",
        "print(\"Total de clientes   :\", len(np.unique(df[\"Cust_Id\"])))\n",
        "print(\"Total de filmes  :\", len(np.unique(df[\"Movie_Id\"])))"
      ],
      "metadata": {
        "colab": {
          "base_uri": "https://localhost:8080/"
        },
        "id": "8OWE6JqrSzFp",
        "outputId": "9cff6181-e2e3-4ded-f42d-c8e20b966d2d"
      },
      "execution_count": null,
      "outputs": [
        {
          "output_type": "stream",
          "name": "stdout",
          "text": [
            "Totalizadores\n",
            "--------------------------------------------------\n",
            "\n",
            "Total de classificações : 24053764\n",
            "Total de clientes   : 470758\n",
            "Total de filmes  : 4499\n"
          ]
        }
      ]
    },
    {
      "cell_type": "code",
      "execution_count": null,
      "metadata": {
        "colab": {
          "base_uri": "https://localhost:8080/",
          "height": 999
        },
        "id": "hcs7O8d9ROvE",
        "outputId": "1765ef27-90d7-4616-e304-5bdef7df8754"
      },
      "outputs": [
        {
          "output_type": "display_data",
          "data": {
            "text/plain": [
              "<Figure size 1800x1200 with 1 Axes>"
            ],
            "image/png": "[encoded data removed]"
          },
          "metadata": {}
        }
      ],
      "source": [
        "# Gráfico de percentuais de avaliações dos filmes\n",
        "\n",
        "# Número de filmes \n",
        "movie_count = df['Movie_Id'].nunique()\n",
        "\n",
        "# Número total de classificação dada pelo cliente\n",
        "customer_count = df[\"Cust_Id\"].nunique() - movie_count\n",
        "\n",
        "# Contagem de classificação\n",
        "rating_count = df[\"Cust_Id\"].count() - movie_count\n",
        "\n",
        "def calculate_ratings_percentage(stars, Rating):\n",
        "    # Agrupa os dados por classificação e calcule a contagem de cada classificação\n",
        "    rating_counts = df.groupby(Rating).size().reset_index(name='count')\n",
        "    \n",
        "# Calcula a porcentagem de cada avaliação\n",
        "    total_ratings = rating_counts['count'].sum()\n",
        "    rating_counts['percent'] = rating_counts['count'] / total_ratings * 100\n",
        "    \n",
        "    return rating_counts\n",
        "rating_counts = calculate_ratings_percentage(df, \"Rating\")\n",
        "\n",
        "# Plota o gráfico de barras horizontais\n",
        "ax = rating_counts.plot(kind = \"barh\", y='percent', x='Rating', legend = True, figsize = (18, 12))\n",
        "plt.title(\"Total - Filmes: {}, Clientes: {}, Avaliações: {}\".format(movie_count, customer_count, rating_count))\n",
        "\n",
        "\n",
        "# Adiciona os valores percentuais dentro das barras\n",
        "for i in ax.patches:\n",
        "    ax.annotate(str(round(i.get_width(), 1))+'%', (i.get_width() +1, i.get_y() + 0.2), fontsize=16, color='black')\n",
        "\n",
        "plt.show()\n"
      ]
    },
    {
      "cell_type": "code",
      "source": [
        "# Filtrar filmes lançados de 1920 a 2023\n",
        "df_filtered = df_titles[(df_titles['Year'] >= 1920) & (df_titles['Year'] <= 2023)]\n",
        "\n",
        "# Grafico de filmes por ano\n",
        "sns.displot(data=df_filtered, x='Year', kind='hist', kde=True,\n",
        "            color='#fdc100', facecolor='#3333cc', edgecolor='#64b6ac', line_kws={'lw': 3}, aspect=3)\n",
        "plt.title('Total de filmes lançados por ano', fontsize=18, weight=600, color='#333d29')\n",
        "plt.xlabel('Ano')\n",
        "plt.ylabel('Quantidade de filmes')\n",
        "\n",
        "plt.show()"
      ],
      "metadata": {
        "colab": {
          "base_uri": "https://localhost:8080/",
          "height": 528
        },
        "id": "dYWsPp056Y1P",
        "outputId": "7208917c-84be-48cf-e838-c3bacc25ff10"
      },
      "execution_count": null,
      "outputs": [
        {
          "output_type": "display_data",
          "data": {
            "text/plain": [
              "<Figure size 1500x500 with 1 Axes>"
            ],
            "image/png": "[encoded data removed]"
          },
          "metadata": {}
        }
      ]
    },
    {
      "cell_type": "code",
      "execution_count": null,
      "metadata": {
        "colab": {
          "base_uri": "https://localhost:8080/"
        },
        "id": "d3EZ3m9KFRn6",
        "outputId": "2336a213-dd4c-4e97-dee1-e3fc67703ac0"
      },
      "outputs": [
        {
          "output_type": "execute_result",
          "data": {
            "text/plain": [
              "4.0    8085741\n",
              "3.0    6904181\n",
              "5.0    5506583\n",
              "2.0    2439073\n",
              "1.0    1118186\n",
              "Name: Rating, dtype: int64"
            ]
          },
          "metadata": {},
          "execution_count": 24
        }
      ],
      "source": [
        "# Verificar a frequência das categorias da variável categórica:\n",
        "df['Rating'].value_counts()"
      ]
    },
    {
      "cell_type": "code",
      "source": [
        "# Histograma do ID do cliente\n",
        "plt.figure(figsize=(8, 6))\n",
        "sns.histplot(data=df, x='Cust_Id', kde=True)\n",
        "plt.xlabel('ID do Cliente')\n",
        "plt.ylabel('Frequência')\n",
        "plt.title('Distribuição do ID do Cliente')\n",
        "plt.show()"
      ],
      "metadata": {
        "colab": {
          "base_uri": "https://localhost:8080/",
          "height": 564
        },
        "id": "JD--GOPNQxJV",
        "outputId": "9f4e2cd1-e17a-4ab9-8f6f-fb52abbb7fb1"
      },
      "execution_count": null,
      "outputs": [
        {
          "output_type": "display_data",
          "data": {
            "text/plain": [
              "<Figure size 800x600 with 1 Axes>"
            ],
            "image/png": "[encoded data removed]"
          },
          "metadata": {}
        }
      ]
    },
    {
      "cell_type": "code",
      "source": [
        "# Histograma da classificação do filme\n",
        "plt.figure(figsize=(8, 6))\n",
        "sns.histplot(data=df, x='Rating', kde=True)\n",
        "plt.xlabel('Classificação do Filme')\n",
        "plt.ylabel('Frequência')\n",
        "plt.title('Distribuição da Classificação do Filme')\n",
        "plt.show()"
      ],
      "metadata": {
        "colab": {
          "base_uri": "https://localhost:8080/",
          "height": 564
        },
        "id": "CoHt1BmtQ1IJ",
        "outputId": "efc2f1e1-48b0-4ea8-cbf5-53eca8e53083"
      },
      "execution_count": null,
      "outputs": [
        {
          "output_type": "display_data",
          "data": {
            "text/plain": [
              "<Figure size 800x600 with 1 Axes>"
            ],
            "image/png": "[encoded data removed]"
          },
          "metadata": {}
        }
      ]
    },
    {
      "cell_type": "code",
      "source": [
        "# Histograma dos filmes\n",
        "plt.figure(figsize=(12, 6))\n",
        "sns.histplot(data=df, x='Movie_Id', kde=True)\n",
        "plt.xticks(rotation=90)\n",
        "plt.xlabel('Filme')\n",
        "plt.ylabel('Frequência')\n",
        "plt.title('Distribuição dos Filmes')\n",
        "plt.show()"
      ],
      "metadata": {
        "colab": {
          "base_uri": "https://localhost:8080/",
          "height": 585
        },
        "id": "F_CUZUmPQ710",
        "outputId": "4d57bd0b-f624-408f-e844-ad353ef46d49"
      },
      "execution_count": null,
      "outputs": [
        {
          "output_type": "display_data",
          "data": {
            "text/plain": [
              "<Figure size 1200x600 with 1 Axes>"
            ],
            "image/png": "[encoded data removed]"
          },
          "metadata": {}
        }
      ]
    },
    {
      "cell_type": "code",
      "execution_count": null,
      "metadata": {
        "colab": {
          "base_uri": "https://localhost:8080/",
          "height": 449
        },
        "id": "rE-oTTajFdUI",
        "outputId": "63bd592a-3923-48f8-9f44-647cecbfd82e"
      },
      "outputs": [
        {
          "output_type": "display_data",
          "data": {
            "text/plain": [
              "<Figure size 640x480 with 1 Axes>"
            ],
            "image/png": "[encoded data removed]"
          },
          "metadata": {}
        }
      ],
      "source": [
        "# Visualizar a distribuição da variável numérica por categoria da variável categórica:\n",
        "sns.boxplot(data=df, x='Rating', y='Movie_Id')\n",
        "plt.show()"
      ]
    },
    {
      "cell_type": "code",
      "execution_count": null,
      "metadata": {
        "colab": {
          "base_uri": "https://localhost:8080/"
        },
        "id": "ivFC88ouV4yD",
        "outputId": "4ce51f74-3a99-4006-b14a-1f75a3e9269d"
      },
      "outputs": [
        {
          "output_type": "execute_result",
          "data": {
            "text/plain": [
              "4.0    8085741\n",
              "3.0    6904181\n",
              "5.0    5506583\n",
              "2.0    2439073\n",
              "1.0    1118186\n",
              "Name: Rating, dtype: int64"
            ]
          },
          "metadata": {},
          "execution_count": 29
        }
      ],
      "source": [
        "# Verificar a frequência das categorias da variável categórica:\n",
        "df['Rating'].value_counts()"
      ]
    },
    {
      "cell_type": "code",
      "source": [
        "# Calcular as estatísticas resumidas das classificações\n",
        "stats = df['Rating'].describe()\n",
        "\n",
        "# Imprimir as estatísticas resumidas\n",
        "print(\"Estatísticas resumidas das classificações:\")\n",
        "print(\"Média: \", stats['mean'])\n",
        "print(\"Mediana: \", stats['50%'])\n",
        "print(\"Desvio padrão: \", stats['std'])\n",
        "print(\"Primeiro quartil (25%): \", stats['25%'])\n",
        "print(\"Terceiro quartil (75%): \", stats['75%'])"
      ],
      "metadata": {
        "id": "npuRIvuIORCN",
        "colab": {
          "base_uri": "https://localhost:8080/"
        },
        "outputId": "03671c77-499e-4a79-92f0-c300a3a28bd2"
      },
      "execution_count": null,
      "outputs": [
        {
          "output_type": "stream",
          "name": "stdout",
          "text": [
            "Estatísticas resumidas das classificações:\n",
            "Média:  3.5996343025565563\n",
            "Mediana:  4.0\n",
            "Desvio padrão:  1.086118197852145\n",
            "Primeiro quartil (25%):  3.0\n",
            "Terceiro quartil (75%):  4.0\n"
          ]
        }
      ]
    },
    {
      "cell_type": "code",
      "source": [
        "# Calcular as estatísticas resumidas dos filmes\n",
        "stats = df['Movie_Id'].describe()\n",
        "\n",
        "# Imprimir as estatísticas resumidas\n",
        "print(\"Estatísticas resumidas das classificações:\")\n",
        "print(\"Média: \", stats['mean'])\n",
        "print(\"Mediana: \", stats['50%'])\n",
        "print(\"Desvio padrão: \", stats['std'])\n",
        "print(\"Primeiro quartil (25%): \", stats['25%'])\n",
        "print(\"Terceiro quartil (75%): \", stats['75%'])"
      ],
      "metadata": {
        "colab": {
          "base_uri": "https://localhost:8080/"
        },
        "id": "cSVG-EDYRYyJ",
        "outputId": "51479364-c91e-4fac-a8ce-53a6b007c22e"
      },
      "execution_count": null,
      "outputs": [
        {
          "output_type": "stream",
          "name": "stdout",
          "text": [
            "Estatísticas resumidas das classificações:\n",
            "Média:  2308.3239047743214\n",
            "Mediana:  2342.0\n",
            "Desvio padrão:  1303.9093031879972\n",
            "Primeiro quartil (25%):  1180.0\n",
            "Terceiro quartil (75%):  3433.0\n"
          ]
        }
      ]
    },
    {
      "cell_type": "code",
      "source": [
        "# Calcular as estatísticas resumidas dos clientes\n",
        "stats = df['Cust_Id'].describe()\n",
        "\n",
        "# Imprimir as estatísticas resumidas\n",
        "print(\"Estatísticas resumidas das classificações:\")\n",
        "print(\"Média: \", stats['mean'])\n",
        "print(\"Mediana: \", stats['50%'])\n",
        "print(\"Desvio padrão: \", stats['std'])\n",
        "print(\"Primeiro quartil (25%): \", stats['25%'])\n",
        "print(\"Terceiro quartil (75%): \", stats['75%'])"
      ],
      "metadata": {
        "colab": {
          "base_uri": "https://localhost:8080/"
        },
        "id": "TdAmWy1iRng_",
        "outputId": "8fc5e3ef-f238-4f09-f4ce-9caf088a286e"
      },
      "execution_count": null,
      "outputs": [
        {
          "output_type": "stream",
          "name": "stdout",
          "text": [
            "Estatísticas resumidas das classificações:\n",
            "Média:  1322285.3422910443\n",
            "Mediana:  1318602.0\n",
            "Desvio padrão:  764577.9360816334\n",
            "Primeiro quartil (25%):  660927.0\n",
            "Terceiro quartil (75%):  1984358.0\n"
          ]
        }
      ]
    },
    {
      "cell_type": "markdown",
      "source": [
        "##6. Análises estatísticas e de correlação"
      ],
      "metadata": {
        "id": "hns9PUXADtHw"
      }
    },
    {
      "cell_type": "code",
      "execution_count": null,
      "metadata": {
        "colab": {
          "base_uri": "https://localhost:8080/"
        },
        "id": "FBW63KoM2wtY",
        "outputId": "5ef21871-a21c-4eed-9528-750f7d0e5896"
      },
      "outputs": [
        {
          "output_type": "stream",
          "name": "stdout",
          "text": [
            "   Cust_Id  Rating  Movie_Id\n",
            "1  1488844     3.0         1\n",
            "2   822109     5.0         1\n",
            "3   885013     4.0         1\n",
            "4    30878     4.0         1\n",
            "5   823519     3.0         1\n"
          ]
        }
      ],
      "source": [
        "\n",
        "# Verificar as primeiras linhas do conjunto de dados\n",
        "print(df.head())"
      ]
    },
    {
      "cell_type": "code",
      "execution_count": null,
      "metadata": {
        "colab": {
          "base_uri": "https://localhost:8080/"
        },
        "id": "k2vjqOOT24Vr",
        "outputId": "5e4001b5-ef31-4b88-c903-eb565c9636ba"
      },
      "outputs": [
        {
          "output_type": "stream",
          "name": "stdout",
          "text": [
            "            Cust_Id        Rating      Movie_Id\n",
            "count  2.405376e+07  2.405376e+07  2.405376e+07\n",
            "mean   1.322285e+06  3.599634e+00  2.308324e+03\n",
            "std    7.645779e+05  1.086118e+00  1.303909e+03\n",
            "min    6.000000e+00  1.000000e+00  1.000000e+00\n",
            "25%    6.609270e+05  3.000000e+00  1.180000e+03\n",
            "50%    1.318602e+06  4.000000e+00  2.342000e+03\n",
            "75%    1.984358e+06  4.000000e+00  3.433000e+03\n",
            "max    2.649429e+06  5.000000e+00  4.499000e+03\n"
          ]
        }
      ],
      "source": [
        "# Verificar as estatísticas descritivas dos dados numéricos\n",
        "print(df.describe())"
      ]
    },
    {
      "cell_type": "code",
      "execution_count": null,
      "metadata": {
        "colab": {
          "base_uri": "https://localhost:8080/",
          "height": 452
        },
        "id": "E3LMpGRT26kq",
        "outputId": "e7ee9ee5-1d1a-44f0-bab6-b6066175219d"
      },
      "outputs": [
        {
          "output_type": "display_data",
          "data": {
            "text/plain": [
              "<Figure size 640x480 with 2 Axes>"
            ],
            "image/png": "[encoded data removed]"
          },
          "metadata": {}
        }
      ],
      "source": [
        "# Verificar as correlações entre as variáveis\n",
        "corr_matrix = df.corr()\n",
        "sns.heatmap(corr_matrix, annot=True, cmap='coolwarm')\n",
        "plt.title(\"Matriz de correlação\")\n",
        "plt.show()"
      ]
    },
    {
      "cell_type": "code",
      "execution_count": null,
      "metadata": {
        "colab": {
          "base_uri": "https://localhost:8080/",
          "height": 927
        },
        "id": "3JROU2yi3Gh_",
        "outputId": "c1ca5115-687f-45ef-dafc-a04d7e71303e"
      },
      "outputs": [
        {
          "output_type": "display_data",
          "data": {
            "text/plain": [
              "<Figure size 640x480 with 1 Axes>"
            ],
            "image/png": "[encoded data removed]"
          },
          "metadata": {}
        },
        {
          "output_type": "display_data",
          "data": {
            "text/plain": [
              "<Figure size 640x480 with 1 Axes>"
            ],
            "image/png": "[encoded data removed]"
          },
          "metadata": {}
        }
      ],
      "source": [
        "# Verificar a relação entre as variáveis\n",
        "sns.scatterplot(x='Cust_Id', y='Rating', data=df)\n",
        "plt.title(\"Relação entre usuário e classificação\")\n",
        "plt.show()\n",
        "\n",
        "sns.scatterplot(x='Movie_Id', y='Rating', data=df)\n",
        "plt.title(\"Relação entre filme e classificação\")\n",
        "plt.show()"
      ]
    },
    {
      "cell_type": "markdown",
      "metadata": {
        "id": "W9BN0OuI3nVT"
      },
      "source": [
        "## 7. Análises de agrupamento\n"
      ]
    },
    {
      "cell_type": "code",
      "execution_count": null,
      "metadata": {
        "id": "gMYtcEH2Dg_5"
      },
      "outputs": [],
      "source": [
        "# Filtrar os primeiros 5000 registros\n",
        "ratings_df = df.head(100000)"
      ]
    },
    {
      "cell_type": "code",
      "source": [
        "ratings_df"
      ],
      "metadata": {
        "colab": {
          "base_uri": "https://localhost:8080/",
          "height": 424
        },
        "id": "HBgFzddiV3zQ",
        "outputId": "0919ca39-6ffc-4571-852d-c46609f4c8af"
      },
      "execution_count": null,
      "outputs": [
        {
          "output_type": "execute_result",
          "data": {
            "text/plain": [
              "        Cust_Id  Rating  Movie_Id\n",
              "1       1488844     3.0         1\n",
              "2        822109     5.0         1\n",
              "3        885013     4.0         1\n",
              "4         30878     4.0         1\n",
              "5        823519     3.0         1\n",
              "...         ...     ...       ...\n",
              "100025  2146325     5.0        30\n",
              "100026  2103907     3.0        30\n",
              "100027  2581477     4.0        30\n",
              "100028  2182488     4.0        30\n",
              "100029  2515863     4.0        30\n",
              "\n",
              "[100000 rows x 3 columns]"
            ],
            "text/html": [
              "\n",
              "  <div id=\"df-0afe8841-0f8c-4df6-adac-4b9bbaefad1c\">\n",
              "    <div class=\"colab-df-container\">\n",
              "      <div>\n",
              "<style scoped>\n",
              "    .dataframe tbody tr th:only-of-type {\n",
              "        vertical-align: middle;\n",
              "    }\n",
              "\n",
              "    .dataframe tbody tr th {\n",
              "        vertical-align: top;\n",
              "    }\n",
              "\n",
              "    .dataframe thead th {\n",
              "        text-align: right;\n",
              "    }\n",
              "</style>\n",
              "<table border=\"1\" class=\"dataframe\">\n",
              "  <thead>\n",
              "    <tr style=\"text-align: right;\">\n",
              "      <th></th>\n",
              "      <th>Cust_Id</th>\n",
              "      <th>Rating</th>\n",
              "      <th>Movie_Id</th>\n",
              "    </tr>\n",
              "  </thead>\n",
              "  <tbody>\n",
              "    <tr>\n",
              "      <th>1</th>\n",
              "      <td>1488844</td>\n",
              "      <td>3.0</td>\n",
              "      <td>1</td>\n",
              "    </tr>\n",
              "    <tr>\n",
              "      <th>2</th>\n",
              "      <td>822109</td>\n",
              "      <td>5.0</td>\n",
              "      <td>1</td>\n",
              "    </tr>\n",
              "    <tr>\n",
              "      <th>3</th>\n",
              "      <td>885013</td>\n",
              "      <td>4.0</td>\n",
              "      <td>1</td>\n",
              "    </tr>\n",
              "    <tr>\n",
              "      <th>4</th>\n",
              "      <td>30878</td>\n",
              "      <td>4.0</td>\n",
              "      <td>1</td>\n",
              "    </tr>\n",
              "    <tr>\n",
              "      <th>5</th>\n",
              "      <td>823519</td>\n",
              "      <td>3.0</td>\n",
              "      <td>1</td>\n",
              "    </tr>\n",
              "    <tr>\n",
              "      <th>...</th>\n",
              "      <td>...</td>\n",
              "      <td>...</td>\n",
              "      <td>...</td>\n",
              "    </tr>\n",
              "    <tr>\n",
              "      <th>100025</th>\n",
              "      <td>2146325</td>\n",
              "      <td>5.0</td>\n",
              "      <td>30</td>\n",
              "    </tr>\n",
              "    <tr>\n",
              "      <th>100026</th>\n",
              "      <td>2103907</td>\n",
              "      <td>3.0</td>\n",
              "      <td>30</td>\n",
              "    </tr>\n",
              "    <tr>\n",
              "      <th>100027</th>\n",
              "      <td>2581477</td>\n",
              "      <td>4.0</td>\n",
              "      <td>30</td>\n",
              "    </tr>\n",
              "    <tr>\n",
              "      <th>100028</th>\n",
              "      <td>2182488</td>\n",
              "      <td>4.0</td>\n",
              "      <td>30</td>\n",
              "    </tr>\n",
              "    <tr>\n",
              "      <th>100029</th>\n",
              "      <td>2515863</td>\n",
              "      <td>4.0</td>\n",
              "      <td>30</td>\n",
              "    </tr>\n",
              "  </tbody>\n",
              "</table>\n",
              "<p>100000 rows × 3 columns</p>\n",
              "</div>\n",
              "      <button class=\"colab-df-convert\" onclick=\"convertToInteractive('df-0afe8841-0f8c-4df6-adac-4b9bbaefad1c')\"\n",
              "              title=\"Convert this dataframe to an interactive table.\"\n",
              "              style=\"display:none;\">\n",
              "        \n",
              "  <svg xmlns=\"http://www.w3.org/2000/svg\" height=\"24px\"viewBox=\"0 0 24 24\"\n",
              "       width=\"24px\">\n",
              "    <path d=\"M0 0h24v24H0V0z\" fill=\"none\"/>\n",
              "    <path d=\"M18.56 5.44l.94 2.06.94-2.06 2.06-.94-2.06-.94-.94-2.06-.94 2.06-2.06.94zm-11 1L8.5 8.5l.94-2.06 2.06-.94-2.06-.94L8.5 2.5l-.94 2.06-2.06.94zm10 10l.94 2.06.94-2.06 2.06-.94-2.06-.94-.94-2.06-.94 2.06-2.06.94z\"/><path d=\"M17.41 7.96l-1.37-1.37c-.4-.4-.92-.59-1.43-.59-.52 0-1.04.2-1.43.59L10.3 9.45l-7.72 7.72c-.78.78-.78 2.05 0 2.83L4 21.41c.39.39.9.59 1.41.59.51 0 1.02-.2 1.41-.59l7.78-7.78 2.81-2.81c.8-.78.8-2.07 0-2.86zM5.41 20L4 18.59l7.72-7.72 1.47 1.35L5.41 20z\"/>\n",
              "  </svg>\n",
              "      </button>\n",
              "      \n",
              "  <style>\n",
              "    .colab-df-container {\n",
              "      display:flex;\n",
              "      flex-wrap:wrap;\n",
              "      gap: 12px;\n",
              "    }\n",
              "\n",
              "    .colab-df-convert {\n",
              "      background-color: #E8F0FE;\n",
              "      border: none;\n",
              "      border-radius: 50%;\n",
              "      cursor: pointer;\n",
              "      display: none;\n",
              "      fill: #1967D2;\n",
              "      height: 32px;\n",
              "      padding: 0 0 0 0;\n",
              "      width: 32px;\n",
              "    }\n",
              "\n",
              "    .colab-df-convert:hover {\n",
              "      background-color: #E2EBFA;\n",
              "      box-shadow: 0px 1px 2px rgba(60, 64, 67, 0.3), 0px 1px 3px 1px rgba(60, 64, 67, 0.15);\n",
              "      fill: #174EA6;\n",
              "    }\n",
              "\n",
              "    [theme=dark] .colab-df-convert {\n",
              "      background-color: #3B4455;\n",
              "      fill: #D2E3FC;\n",
              "    }\n",
              "\n",
              "    [theme=dark] .colab-df-convert:hover {\n",
              "      background-color: #434B5C;\n",
              "      box-shadow: 0px 1px 3px 1px rgba(0, 0, 0, 0.15);\n",
              "      filter: drop-shadow(0px 1px 2px rgba(0, 0, 0, 0.3));\n",
              "      fill: #FFFFFF;\n",
              "    }\n",
              "  </style>\n",
              "\n",
              "      <script>\n",
              "        const buttonEl =\n",
              "          document.querySelector('#df-0afe8841-0f8c-4df6-adac-4b9bbaefad1c button.colab-df-convert');\n",
              "        buttonEl.style.display =\n",
              "          google.colab.kernel.accessAllowed ? 'block' : 'none';\n",
              "\n",
              "        async function convertToInteractive(key) {\n",
              "          const element = document.querySelector('#df-0afe8841-0f8c-4df6-adac-4b9bbaefad1c');\n",
              "          const dataTable =\n",
              "            await google.colab.kernel.invokeFunction('convertToInteractive',\n",
              "                                                     [key], {});\n",
              "          if (!dataTable) return;\n",
              "\n",
              "          const docLinkHtml = 'Like what you see? Visit the ' +\n",
              "            '<a target=\"_blank\" href=https://colab.research.google.com/notebooks/data_table.ipynb>data table notebook</a>'\n",
              "            + ' to learn more about interactive tables.';\n",
              "          element.innerHTML = '';\n",
              "          dataTable['output_type'] = 'display_data';\n",
              "          await google.colab.output.renderOutput(dataTable, element);\n",
              "          const docLink = document.createElement('div');\n",
              "          docLink.innerHTML = docLinkHtml;\n",
              "          element.appendChild(docLink);\n",
              "        }\n",
              "      </script>\n",
              "    </div>\n",
              "  </div>\n",
              "  "
            ]
          },
          "metadata": {},
          "execution_count": 38
        }
      ]
    },
    {
      "cell_type": "code",
      "execution_count": null,
      "metadata": {
        "id": "pw6EBkZ73q6Y"
      },
      "outputs": [],
      "source": [
        "# Criação da matriz de classificações de filmes por usuário\n",
        "ratings_matrix = ratings_df.pivot_table(index='Cust_Id', columns='Movie_Id', values='Rating')"
      ]
    },
    {
      "cell_type": "code",
      "execution_count": null,
      "metadata": {
        "id": "fNCXa6Zn3yNa"
      },
      "outputs": [],
      "source": [
        "# Substituição dos valores NaN por 0\n",
        "ratings_matrix = ratings_matrix.fillna(0)"
      ]
    },
    {
      "cell_type": "code",
      "source": [
        "print(ratings_matrix)"
      ],
      "metadata": {
        "colab": {
          "base_uri": "https://localhost:8080/"
        },
        "id": "yN0VY03uIfHY",
        "outputId": "2ce4d686-936f-4a18-da1b-4cda65bfe7ce"
      },
      "execution_count": null,
      "outputs": [
        {
          "output_type": "stream",
          "name": "stdout",
          "text": [
            "Movie_Id   1    2    3    4    5    6    7    8    9    10  ...   21   22  \\\n",
            "Cust_Id                                                     ...             \n",
            "7         0.0  0.0  0.0  0.0  0.0  0.0  0.0  5.0  0.0  0.0  ...  0.0  0.0   \n",
            "134       0.0  0.0  0.0  0.0  0.0  0.0  0.0  0.0  0.0  0.0  ...  0.0  0.0   \n",
            "201       0.0  0.0  0.0  0.0  0.0  0.0  0.0  0.0  0.0  0.0  ...  0.0  0.0   \n",
            "261       0.0  0.0  0.0  0.0  0.0  0.0  0.0  0.0  0.0  0.0  ...  0.0  0.0   \n",
            "265       0.0  0.0  0.0  0.0  0.0  0.0  0.0  0.0  0.0  0.0  ...  0.0  0.0   \n",
            "...       ...  ...  ...  ...  ...  ...  ...  ...  ...  ...  ...  ...  ...   \n",
            "2649331   0.0  0.0  0.0  0.0  0.0  0.0  0.0  0.0  0.0  0.0  ...  0.0  0.0   \n",
            "2649336   0.0  0.0  0.0  0.0  0.0  0.0  0.0  4.0  0.0  0.0  ...  0.0  0.0   \n",
            "2649375   0.0  0.0  0.0  0.0  0.0  0.0  0.0  0.0  0.0  0.0  ...  0.0  0.0   \n",
            "2649378   0.0  0.0  0.0  0.0  0.0  0.0  0.0  0.0  0.0  0.0  ...  0.0  0.0   \n",
            "2649426   0.0  0.0  0.0  0.0  0.0  0.0  0.0  0.0  0.0  0.0  ...  0.0  0.0   \n",
            "\n",
            "Movie_Id   23   24   25   26   27   28   29   30  \n",
            "Cust_Id                                           \n",
            "7         0.0  0.0  0.0  0.0  0.0  4.0  0.0  0.0  \n",
            "134       0.0  0.0  0.0  0.0  0.0  5.0  0.0  0.0  \n",
            "201       0.0  0.0  0.0  0.0  0.0  4.0  0.0  0.0  \n",
            "261       0.0  0.0  0.0  0.0  0.0  0.0  0.0  4.0  \n",
            "265       0.0  0.0  0.0  0.0  0.0  3.0  0.0  0.0  \n",
            "...       ...  ...  ...  ...  ...  ...  ...  ...  \n",
            "2649331   0.0  0.0  0.0  0.0  0.0  0.0  0.0  5.0  \n",
            "2649336   0.0  0.0  0.0  0.0  0.0  0.0  0.0  0.0  \n",
            "2649375   0.0  0.0  0.0  0.0  0.0  4.0  0.0  0.0  \n",
            "2649378   0.0  0.0  0.0  0.0  0.0  3.0  0.0  0.0  \n",
            "2649426   0.0  0.0  0.0  0.0  0.0  4.0  0.0  0.0  \n",
            "\n",
            "[81490 rows x 30 columns]\n"
          ]
        }
      ]
    },
    {
      "cell_type": "code",
      "execution_count": null,
      "metadata": {
        "colab": {
          "base_uri": "https://localhost:8080/",
          "height": 129
        },
        "id": "_WoU9XHP3zxM",
        "outputId": "dac93d32-9dd2-4413-95eb-0d8bdb3a0198"
      },
      "outputs": [
        {
          "output_type": "stream",
          "name": "stderr",
          "text": [
            "/usr/local/lib/python3.10/dist-packages/sklearn/cluster/_kmeans.py:870: FutureWarning: The default value of `n_init` will change from 10 to 'auto' in 1.4. Set the value of `n_init` explicitly to suppress the warning\n",
            "  warnings.warn(\n"
          ]
        },
        {
          "output_type": "execute_result",
          "data": {
            "text/plain": [
              "KMeans(n_clusters=4, random_state=0)"
            ],
            "text/html": [
              "<style>#sk-container-id-1 {color: black;background-color: white;}#sk-container-id-1 pre{padding: 0;}#sk-container-id-1 div.sk-toggleable {background-color: white;}#sk-container-id-1 label.sk-toggleable__label {cursor: pointer;display: block;width: 100%;margin-bottom: 0;padding: 0.3em;box-sizing: border-box;text-align: center;}#sk-container-id-1 label.sk-toggleable__label-arrow:before {content: \"▸\";float: left;margin-right: 0.25em;color: #696969;}#sk-container-id-1 label.sk-toggleable__label-arrow:hover:before {color: black;}#sk-container-id-1 div.sk-estimator:hover label.sk-toggleable__label-arrow:before {color: black;}#sk-container-id-1 div.sk-toggleable__content {max-height: 0;max-width: 0;overflow: hidden;text-align: left;background-color: #f0f8ff;}#sk-container-id-1 div.sk-toggleable__content pre {margin: 0.2em;color: black;border-radius: 0.25em;background-color: #f0f8ff;}#sk-container-id-1 input.sk-toggleable__control:checked~div.sk-toggleable__content {max-height: 200px;max-width: 100%;overflow: auto;}#sk-container-id-1 input.sk-toggleable__control:checked~label.sk-toggleable__label-arrow:before {content: \"▾\";}#sk-container-id-1 div.sk-estimator input.sk-toggleable__control:checked~label.sk-toggleable__label {background-color: #d4ebff;}#sk-container-id-1 div.sk-label input.sk-toggleable__control:checked~label.sk-toggleable__label {background-color: #d4ebff;}#sk-container-id-1 input.sk-hidden--visually {border: 0;clip: rect(1px 1px 1px 1px);clip: rect(1px, 1px, 1px, 1px);height: 1px;margin: -1px;overflow: hidden;padding: 0;position: absolute;width: 1px;}#sk-container-id-1 div.sk-estimator {font-family: monospace;background-color: #f0f8ff;border: 1px dotted black;border-radius: 0.25em;box-sizing: border-box;margin-bottom: 0.5em;}#sk-container-id-1 div.sk-estimator:hover {background-color: #d4ebff;}#sk-container-id-1 div.sk-parallel-item::after {content: \"\";width: 100%;border-bottom: 1px solid gray;flex-grow: 1;}#sk-container-id-1 div.sk-label:hover label.sk-toggleable__label {background-color: #d4ebff;}#sk-container-id-1 div.sk-serial::before {content: \"\";position: absolute;border-left: 1px solid gray;box-sizing: border-box;top: 0;bottom: 0;left: 50%;z-index: 0;}#sk-container-id-1 div.sk-serial {display: flex;flex-direction: column;align-items: center;background-color: white;padding-right: 0.2em;padding-left: 0.2em;position: relative;}#sk-container-id-1 div.sk-item {position: relative;z-index: 1;}#sk-container-id-1 div.sk-parallel {display: flex;align-items: stretch;justify-content: center;background-color: white;position: relative;}#sk-container-id-1 div.sk-item::before, #sk-container-id-1 div.sk-parallel-item::before {content: \"\";position: absolute;border-left: 1px solid gray;box-sizing: border-box;top: 0;bottom: 0;left: 50%;z-index: -1;}#sk-container-id-1 div.sk-parallel-item {display: flex;flex-direction: column;z-index: 1;position: relative;background-color: white;}#sk-container-id-1 div.sk-parallel-item:first-child::after {align-self: flex-end;width: 50%;}#sk-container-id-1 div.sk-parallel-item:last-child::after {align-self: flex-start;width: 50%;}#sk-container-id-1 div.sk-parallel-item:only-child::after {width: 0;}#sk-container-id-1 div.sk-dashed-wrapped {border: 1px dashed gray;margin: 0 0.4em 0.5em 0.4em;box-sizing: border-box;padding-bottom: 0.4em;background-color: white;}#sk-container-id-1 div.sk-label label {font-family: monospace;font-weight: bold;display: inline-block;line-height: 1.2em;}#sk-container-id-1 div.sk-label-container {text-align: center;}#sk-container-id-1 div.sk-container {/* jupyter's `normalize.less` sets `[hidden] { display: none; }` but bootstrap.min.css set `[hidden] { display: none !important; }` so we also need the `!important` here to be able to override the default hidden behavior on the sphinx rendered scikit-learn.org. See: https://github.com/scikit-learn/scikit-learn/issues/21755 */display: inline-block !important;position: relative;}#sk-container-id-1 div.sk-text-repr-fallback {display: none;}</style><div id=\"sk-container-id-1\" class=\"sk-top-container\"><div class=\"sk-text-repr-fallback\"><pre>KMeans(n_clusters=4, random_state=0)</pre><b>In a Jupyter environment, please rerun this cell to show the HTML representation or trust the notebook. <br />On GitHub, the HTML representation is unable to render, please try loading this page with nbviewer.org.</b></div><div class=\"sk-container\" hidden><div class=\"sk-item\"><div class=\"sk-estimator sk-toggleable\"><input class=\"sk-toggleable__control sk-hidden--visually\" id=\"sk-estimator-id-1\" type=\"checkbox\" checked><label for=\"sk-estimator-id-1\" class=\"sk-toggleable__label sk-toggleable__label-arrow\">KMeans</label><div class=\"sk-toggleable__content\"><pre>KMeans(n_clusters=4, random_state=0)</pre></div></div></div></div></div>"
            ]
          },
          "metadata": {},
          "execution_count": 42
        }
      ],
      "source": [
        "# Aplicação do K-means clustering\n",
        "kmeans = KMeans(n_clusters=4, random_state=0)\n",
        "kmeans.fit(ratings_matrix)"
      ]
    },
    {
      "cell_type": "code",
      "execution_count": null,
      "metadata": {
        "id": "JY_aCiF532Qx",
        "colab": {
          "base_uri": "https://localhost:8080/",
          "height": 450
        },
        "outputId": "69b0a072-2063-4a39-ce3e-7a24920d80f1"
      },
      "outputs": [
        {
          "output_type": "display_data",
          "data": {
            "text/plain": [
              "<Figure size 640x480 with 1 Axes>"
            ],
            "image/png": "[encoded data removed]"
          },
          "metadata": {}
        }
      ],
      "source": [
        "# Plotagem do gráfico de dispersão dos clusters\n",
        "plt.scatter(ratings_matrix.iloc[:, 0], ratings_matrix.iloc[:, 29], c=kmeans.labels_, cmap='viridis')\n",
        "plt.xlabel('Movie_Id 1')\n",
        "plt.ylabel('Movie_Id 2')\n",
        "plt.show()"
      ]
    },
    {
      "cell_type": "code",
      "execution_count": null,
      "metadata": {
        "id": "SBPYipj434VZ",
        "colab": {
          "base_uri": "https://localhost:8080/"
        },
        "outputId": "10d24152-6780-47ca-933d-4f589484e1a3"
      },
      "outputs": [
        {
          "output_type": "stream",
          "name": "stdout",
          "text": [
            "   Cust_Id  Cluster\n",
            "0        7        0\n",
            "1      134        1\n",
            "2      201        1\n",
            "3      261        2\n",
            "4      265        1\n"
          ]
        }
      ],
      "source": [
        "# exibição dos resultados\n",
        "clusters = pd.DataFrame({'Cust_Id': ratings_matrix.index, 'Cluster': kmeans.labels_})\n",
        "print(clusters.head())"
      ]
    },
    {
      "cell_type": "markdown",
      "source": [
        "##8. Recomendação por Filtragem Colaborativa\n"
      ],
      "metadata": {
        "id": "GgNMqCx7D0sK"
      }
    },
    {
      "cell_type": "code",
      "source": [
        "# Definir a configuração do leitor\n",
        "reader = Reader(rating_scale=(1, 5))"
      ],
      "metadata": {
        "id": "25IghZEZD6eg"
      },
      "execution_count": null,
      "outputs": []
    },
    {
      "cell_type": "code",
      "source": [
        "# Carregar o conjunto de dados\n",
        "data = Dataset.load_from_df(df[['Cust_Id', 'Movie_Id', 'Rating']][:100000], reader)"
      ],
      "metadata": {
        "id": "O8l1axLWD-SA"
      },
      "execution_count": null,
      "outputs": []
    },
    {
      "cell_type": "code",
      "source": [
        "# Dividir o conjunto de dados em treinamento e teste\n",
        "train_data, test_data = train_test_split(data, test_size=0.25)"
      ],
      "metadata": {
        "id": "uwSNVT2PEAqy"
      },
      "execution_count": null,
      "outputs": []
    },
    {
      "cell_type": "code",
      "source": [
        "# Definir os parâmetros a serem testados para encontrar o melhor modelo\n",
        "param_grid = {'n_factors': [50, 100, 150], 'n_epochs': [20, 30, 40], 'lr_all': [0.002, 0.005, 0.01]}"
      ],
      "metadata": {
        "id": "-MSKl5waED7o"
      },
      "execution_count": null,
      "outputs": []
    },
    {
      "cell_type": "code",
      "source": [
        "# Treinar o modelo de filtragem colaborativa (SVD)\n",
        "model = SVD()"
      ],
      "metadata": {
        "id": "PszMcoP1EIa4"
      },
      "execution_count": null,
      "outputs": []
    },
    {
      "cell_type": "code",
      "source": [
        "# Treinar o modelo usando os dados de treinamento\n",
        "model.fit(train_data)"
      ],
      "metadata": {
        "id": "N30gdne5EKnd",
        "colab": {
          "base_uri": "https://localhost:8080/"
        },
        "outputId": "ec14f819-cbe8-41f2-f489-ab9285808dc2"
      },
      "execution_count": null,
      "outputs": [
        {
          "output_type": "execute_result",
          "data": {
            "text/plain": [
              "<surprise.prediction_algorithms.matrix_factorization.SVD at 0x7f8c4d223c70>"
            ]
          },
          "metadata": {},
          "execution_count": 172
        }
      ]
    },
    {
      "cell_type": "code",
      "source": [
        "# Filtrar o usuário 337541 mostrando o que o mesmo gostou no passado:\n",
        "user_337541 = df[(df['Cust_Id'] == 337541) & (df['Rating'] == 5)]\n",
        "user_337541 = user_337541.set_index('Movie_Id')\n",
        "user_337541 = user_337541.join(df_titles)['Name']\n",
        "user_337541"
      ],
      "metadata": {
        "id": "vWSSY8dLEKuh",
        "colab": {
          "base_uri": "https://localhost:8080/"
        },
        "outputId": "4a3f0757-7170-4af8-f1a6-b905910bfb43"
      },
      "execution_count": null,
      "outputs": [
        {
          "output_type": "execute_result",
          "data": {
            "text/plain": [
              "Movie_Id\n",
              "1                              Isle of Man TT 2004 Review\n",
              "273                                          Cold Harvest\n",
              "458                            The Return of Ruben Blades\n",
              "886                                           Fascination\n",
              "1173                      50 Years: The Best of Hollywood\n",
              "1470            Korn: Kornography: Unauthorized Biography\n",
              "1905                                      Nightmare Alley\n",
              "1941                                        Here on Earth\n",
              "2098                                  Jesus and His Times\n",
              "2171                                       On Golden Pond\n",
              "2290                                               Vulgar\n",
              "2372    Harry Potter and the Prisoner of Azkaban: Bonu...\n",
              "2452                                          Exit Wounds\n",
              "2754                                   Muppets From Space\n",
              "3079                                      Vampyros Lesbos\n",
              "3197                                       State Property\n",
              "3938                                        Random Hearts\n",
              "3962         Simon & Garfunkel: Old Friends Live on Stage\n",
              "4100               NBA Finals 2002: Official Championship\n",
              "4216                                                 Eden\n",
              "4260                           The Abbott & Costello Show\n",
              "4427             Carly Simon: Live from Martha's Vineyard\n",
              "Name: Name, dtype: object"
            ]
          },
          "metadata": {},
          "execution_count": 173
        }
      ]
    },
    {
      "cell_type": "code",
      "source": [
        "# Fazer previsões no conjunto de teste\n",
        "predictions = model.test(test_data)"
      ],
      "metadata": {
        "id": "tBRYJO8YEP8R"
      },
      "execution_count": null,
      "outputs": []
    },
    {
      "cell_type": "code",
      "source": [
        "# Gerar os itens que o usuário não assistiu\n",
        "user_id = 337541\n",
        "anti_testset = train_data.build_anti_testset()\n",
        "anti_testset = filter(lambda x: x[0] == user_id, anti_testset)"
      ],
      "metadata": {
        "id": "wxh_Y02zEhMO"
      },
      "execution_count": null,
      "outputs": []
    },
    {
      "cell_type": "code",
      "source": [
        "# Fazer previsões para os filmes não assistidos pelo usuário\n",
        "predictions = model.test(anti_testset)"
      ],
      "metadata": {
        "id": "oxwSZE0nEjhh"
      },
      "execution_count": null,
      "outputs": []
    },
    {
      "cell_type": "code",
      "source": [
        "# Ordenar as previsões em ordem decrescente de classificação estimada\n",
        "top_n = heapq.nlargest(10, predictions, key=lambda x: x.est)"
      ],
      "metadata": {
        "id": "BbF7FYHOElco"
      },
      "execution_count": null,
      "outputs": []
    },
    {
      "cell_type": "code",
      "source": [
        "# Exibir os melhores filmes recomendados para o usuário\n",
        "print(f\"Recomendações de filmes para o usuário {user_id}:\")\n",
        "for prediction in top_n:\n",
        "    movie_id = prediction.iid\n",
        "    estimated_rating = prediction.est\n",
        "    print(f\"Filme: {movie_id} - Previsão de classificação: {estimated_rating}\")"
      ],
      "metadata": {
        "id": "BZrF-MA-Enh9",
        "colab": {
          "base_uri": "https://localhost:8080/"
        },
        "outputId": "dbc5bb46-cd49-46d1-8068-cec54b438db7"
      },
      "execution_count": null,
      "outputs": [
        {
          "output_type": "stream",
          "name": "stdout",
          "text": [
            "Recomendações de filmes para o usuário 337541:\n",
            "Filme: 5 - Previsão de classificação: 4.753564478136663\n",
            "Filme: 13 - Previsão de classificação: 4.584619188844299\n",
            "Filme: 3 - Previsão de classificação: 4.182306257609515\n",
            "Filme: 8 - Previsão de classificação: 4.063641983773293\n",
            "Filme: 25 - Previsão de classificação: 3.8610708308988815\n",
            "Filme: 23 - Previsão de classificação: 3.803716055263284\n",
            "Filme: 18 - Previsão de classificação: 3.8013528291800953\n",
            "Filme: 29 - Previsão de classificação: 3.7913235268724916\n",
            "Filme: 2 - Previsão de classificação: 3.714574404609226\n",
            "Filme: 27 - Previsão de classificação: 3.6894640075151606\n"
          ]
        }
      ]
    },
    {
      "cell_type": "code",
      "source": [
        "# Calcular a precisão do modelo\n",
        "accuracy.rmse(predictions)"
      ],
      "metadata": {
        "id": "vJ4du_aVEWYJ",
        "colab": {
          "base_uri": "https://localhost:8080/"
        },
        "outputId": "aa7ae895-1261-49b9-fd9f-89f435f9a7c5"
      },
      "execution_count": null,
      "outputs": [
        {
          "output_type": "stream",
          "name": "stdout",
          "text": [
            "RMSE: 0.6122\n"
          ]
        },
        {
          "output_type": "execute_result",
          "data": {
            "text/plain": [
              "0.6122345291347763"
            ]
          },
          "metadata": {},
          "execution_count": 179
        }
      ]
    },
    {
      "cell_type": "code",
      "source": [
        "# Salvar o modelo treinado em um arquivo\n",
        "model_file = 'modelo_svd.pkl'\n",
        "dump.dump(model_file, algo=model)"
      ],
      "metadata": {
        "id": "9Y8xElhqEqWh"
      },
      "execution_count": null,
      "outputs": []
    },
    {
      "cell_type": "code",
      "source": [
        "# Carregar o modelo treinado de um arquivo\n",
        "loaded_model = dump.load(model_file)[1]"
      ],
      "metadata": {
        "id": "0VNIhXGREsiK"
      },
      "execution_count": null,
      "outputs": []
    }
  ],
  "metadata": {
    "colab": {
      "collapsed_sections": [
        "XTibc2le5Nn4",
        "9KSwSLCWRWqq",
        "Y_CWtu6pQV1A",
        "KP4g2beoJ4-R",
        "-tfkXi6XGMpt",
        "hns9PUXADtHw",
        "W9BN0OuI3nVT",
        "GgNMqCx7D0sK"
      ],
      "provenance": [],
      "gpuType": "T4"
    },
    "kernelspec": {
      "display_name": "Python 3",
      "name": "python3"
    },
    "language_info": {
      "name": "python"
    },
    "accelerator": "GPU"
  },
  "nbformat": 4,
  "nbformat_minor": 0
}